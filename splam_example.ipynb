{
  "nbformat": 4,
  "nbformat_minor": 0,
  "metadata": {
    "colab": {
      "provenance": [],
      "toc_visible": true,
      "include_colab_link": true
    },
    "kernelspec": {
      "name": "python3",
      "display_name": "Python 3"
    },
    "language_info": {
      "name": "python"
    }
  },
  "cells": [
    {
      "cell_type": "markdown",
      "metadata": {
        "id": "view-in-github",
        "colab_type": "text"
      },
      "source": [
        "<a href=\"https://colab.research.google.com/github/Kuanhao-Chao/splam/blob/main/splam_example.ipynb\" target=\"_parent\"><img src=\"https://colab.research.google.com/assets/colab-badge.svg\" alt=\"Open In Colab\"/></a>"
      ]
    },
    {
      "cell_type": "markdown",
      "source": [
        "# Running splam on Google Colab"
      ],
      "metadata": {
        "id": "QM8Yc18e3jD8"
      }
    },
    {
      "cell_type": "markdown",
      "source": [
        "## Setup"
      ],
      "metadata": {
        "id": "fkwRpjgD343a"
      }
    },
    {
      "cell_type": "markdown",
      "source": [
        "### Install dependencies"
      ],
      "metadata": {
        "id": "72YBnvr3HFXG"
      }
    },
    {
      "cell_type": "code",
      "source": [
        "!pip install torch"
      ],
      "metadata": {
        "colab": {
          "base_uri": "https://localhost:8080/"
        },
        "id": "sov0G5W634Dw",
        "outputId": "0170fb85-fd85-4afd-e097-7dca8dc968d8"
      },
      "execution_count": null,
      "outputs": [
        {
          "output_type": "stream",
          "name": "stdout",
          "text": [
            "Requirement already satisfied: torch in /usr/local/lib/python3.10/dist-packages (2.0.1+cu118)\n",
            "Requirement already satisfied: filelock in /usr/local/lib/python3.10/dist-packages (from torch) (3.12.2)\n",
            "Requirement already satisfied: typing-extensions in /usr/local/lib/python3.10/dist-packages (from torch) (4.6.3)\n",
            "Requirement already satisfied: sympy in /usr/local/lib/python3.10/dist-packages (from torch) (1.11.1)\n",
            "Requirement already satisfied: networkx in /usr/local/lib/python3.10/dist-packages (from torch) (3.1)\n",
            "Requirement already satisfied: jinja2 in /usr/local/lib/python3.10/dist-packages (from torch) (3.1.2)\n",
            "Requirement already satisfied: triton==2.0.0 in /usr/local/lib/python3.10/dist-packages (from torch) (2.0.0)\n",
            "Requirement already satisfied: cmake in /usr/local/lib/python3.10/dist-packages (from triton==2.0.0->torch) (3.25.2)\n",
            "Requirement already satisfied: lit in /usr/local/lib/python3.10/dist-packages (from triton==2.0.0->torch) (16.0.6)\n",
            "Requirement already satisfied: MarkupSafe>=2.0 in /usr/local/lib/python3.10/dist-packages (from jinja2->torch) (2.1.3)\n",
            "Requirement already satisfied: mpmath>=0.19 in /usr/local/lib/python3.10/dist-packages (from sympy->torch) (1.3.0)\n"
          ]
        }
      ]
    },
    {
      "cell_type": "code",
      "source": [
        "!pip install splam"
      ],
      "metadata": {
        "colab": {
          "base_uri": "https://localhost:8080/"
        },
        "id": "e1o_Wz5V5dV1",
        "outputId": "f0b3a10d-5f4a-4cb6-9ed7-dd075338a96a"
      },
      "execution_count": null,
      "outputs": [
        {
          "output_type": "stream",
          "name": "stdout",
          "text": [
            "Collecting splam\n",
            "  Downloading splam-0.2.15.tar.gz (40.6 MB)\n",
            "\u001b[2K     \u001b[90m━━━━━━━━━━━━━━━━━━━━━━━━━━━━━━━━━━━━━━━━\u001b[0m \u001b[32m40.6/40.6 MB\u001b[0m \u001b[31m9.4 MB/s\u001b[0m eta \u001b[36m0:00:00\u001b[0m\n",
            "\u001b[?25h  Preparing metadata (setup.py) ... \u001b[?25l\u001b[?25hdone\n",
            "Requirement already satisfied: torch>=1.12.0 in /usr/local/lib/python3.10/dist-packages (from splam) (2.0.1+cu118)\n",
            "Collecting pybedtools>=0.9.0 (from splam)\n",
            "  Downloading pybedtools-0.9.0.tar.gz (12.5 MB)\n",
            "\u001b[2K     \u001b[90m━━━━━━━━━━━━━━━━━━━━━━━━━━━━━━━━━━━━━━━━\u001b[0m \u001b[32m12.5/12.5 MB\u001b[0m \u001b[31m69.4 MB/s\u001b[0m eta \u001b[36m0:00:00\u001b[0m\n",
            "\u001b[?25h  Preparing metadata (setup.py) ... \u001b[?25l\u001b[?25hdone\n",
            "Collecting gffutils>=0.10.0 (from splam)\n",
            "  Downloading gffutils-0.11.1.tar.gz (1.6 MB)\n",
            "\u001b[2K     \u001b[90m━━━━━━━━━━━━━━━━━━━━━━━━━━━━━━━━━━━━━━━━\u001b[0m \u001b[32m1.6/1.6 MB\u001b[0m \u001b[31m65.4 MB/s\u001b[0m eta \u001b[36m0:00:00\u001b[0m\n",
            "\u001b[?25h  Preparing metadata (setup.py) ... \u001b[?25l\u001b[?25hdone\n",
            "Collecting pyfaidx>=0.5.5.2 (from gffutils>=0.10.0->splam)\n",
            "  Downloading pyfaidx-0.7.2.1-py3-none-any.whl (28 kB)\n",
            "Requirement already satisfied: six>=1.12.0 in /usr/local/lib/python3.10/dist-packages (from gffutils>=0.10.0->splam) (1.16.0)\n",
            "Collecting argh>=0.26.2 (from gffutils>=0.10.0->splam)\n",
            "  Downloading argh-0.28.1-py3-none-any.whl (40 kB)\n",
            "\u001b[2K     \u001b[90m━━━━━━━━━━━━━━━━━━━━━━━━━━━━━━━━━━━━━━━━\u001b[0m \u001b[32m40.5/40.5 kB\u001b[0m \u001b[31m3.2 MB/s\u001b[0m eta \u001b[36m0:00:00\u001b[0m\n",
            "\u001b[?25hCollecting argcomplete>=1.9.4 (from gffutils>=0.10.0->splam)\n",
            "  Downloading argcomplete-3.1.1-py3-none-any.whl (41 kB)\n",
            "\u001b[2K     \u001b[90m━━━━━━━━━━━━━━━━━━━━━━━━━━━━━━━━━━━━━━━━\u001b[0m \u001b[32m41.5/41.5 kB\u001b[0m \u001b[31m3.7 MB/s\u001b[0m eta \u001b[36m0:00:00\u001b[0m\n",
            "\u001b[?25hCollecting simplejson (from gffutils>=0.10.0->splam)\n",
            "  Downloading simplejson-3.19.1-cp310-cp310-manylinux_2_5_x86_64.manylinux1_x86_64.manylinux_2_17_x86_64.manylinux2014_x86_64.whl (137 kB)\n",
            "\u001b[2K     \u001b[90m━━━━━━━━━━━━━━━━━━━━━━━━━━━━━━━━━━━━━━\u001b[0m \u001b[32m137.9/137.9 kB\u001b[0m \u001b[31m11.9 MB/s\u001b[0m eta \u001b[36m0:00:00\u001b[0m\n",
            "\u001b[?25hCollecting pysam (from pybedtools>=0.9.0->splam)\n",
            "  Downloading pysam-0.21.0-cp310-cp310-manylinux_2_24_x86_64.whl (20.0 MB)\n",
            "\u001b[2K     \u001b[90m━━━━━━━━━━━━━━━━━━━━━━━━━━━━━━━━━━━━━━━━\u001b[0m \u001b[32m20.0/20.0 MB\u001b[0m \u001b[31m12.9 MB/s\u001b[0m eta \u001b[36m0:00:00\u001b[0m\n",
            "\u001b[?25hRequirement already satisfied: filelock in /usr/local/lib/python3.10/dist-packages (from torch>=1.12.0->splam) (3.12.2)\n",
            "Requirement already satisfied: typing-extensions in /usr/local/lib/python3.10/dist-packages (from torch>=1.12.0->splam) (4.6.3)\n",
            "Requirement already satisfied: sympy in /usr/local/lib/python3.10/dist-packages (from torch>=1.12.0->splam) (1.11.1)\n",
            "Requirement already satisfied: networkx in /usr/local/lib/python3.10/dist-packages (from torch>=1.12.0->splam) (3.1)\n",
            "Requirement already satisfied: jinja2 in /usr/local/lib/python3.10/dist-packages (from torch>=1.12.0->splam) (3.1.2)\n",
            "Requirement already satisfied: triton==2.0.0 in /usr/local/lib/python3.10/dist-packages (from torch>=1.12.0->splam) (2.0.0)\n",
            "Requirement already satisfied: cmake in /usr/local/lib/python3.10/dist-packages (from triton==2.0.0->torch>=1.12.0->splam) (3.25.2)\n",
            "Requirement already satisfied: lit in /usr/local/lib/python3.10/dist-packages (from triton==2.0.0->torch>=1.12.0->splam) (16.0.6)\n",
            "Requirement already satisfied: setuptools in /usr/local/lib/python3.10/dist-packages (from pyfaidx>=0.5.5.2->gffutils>=0.10.0->splam) (67.7.2)\n",
            "Requirement already satisfied: MarkupSafe>=2.0 in /usr/local/lib/python3.10/dist-packages (from jinja2->torch>=1.12.0->splam) (2.1.3)\n",
            "Requirement already satisfied: cython in /usr/local/lib/python3.10/dist-packages (from pysam->pybedtools>=0.9.0->splam) (0.29.35)\n",
            "Requirement already satisfied: mpmath>=0.19 in /usr/local/lib/python3.10/dist-packages (from sympy->torch>=1.12.0->splam) (1.3.0)\n",
            "Building wheels for collected packages: splam, gffutils, pybedtools\n",
            "  Building wheel for splam (setup.py) ... \u001b[?25l\u001b[?25hdone\n",
            "  Created wheel for splam: filename=splam-0.2.15-cp310-cp310-linux_x86_64.whl size=1056228 sha256=457ca5efae0b890ff3b89053e9cbbe690bb4227ce1c97d1e1caf48e91d7430d9\n",
            "  Stored in directory: /root/.cache/pip/wheels/c9/bf/68/fb52af24dedffe89d0d74965da80f3b03dd74184f8fd5d2150\n",
            "  Building wheel for gffutils (setup.py) ... \u001b[?25l\u001b[?25hdone\n",
            "  Created wheel for gffutils: filename=gffutils-0.11.1-py3-none-any.whl size=1619346 sha256=81d6b7245f4accb9622df860a814fdc47e5ebe33d6f486b423bcf399f114bc57\n",
            "  Stored in directory: /root/.cache/pip/wheels/06/01/2f/ecea8040fe2e2e905351b8027efcca436e23962624e20ed8c3\n",
            "  Building wheel for pybedtools (setup.py) ... \u001b[?25l\u001b[?25hdone\n",
            "  Created wheel for pybedtools: filename=pybedtools-0.9.0-cp310-cp310-linux_x86_64.whl size=14248394 sha256=c79a9577ae72d0d5ab24f75b52ea35b27fc37e15d810af855be280d41dec2290\n",
            "  Stored in directory: /root/.cache/pip/wheels/50/a7/83/8f6b841c60977cbd76f54f30f5b9e11159150d73a0a8fa42ff\n",
            "Successfully built splam gffutils pybedtools\n",
            "Installing collected packages: simplejson, pysam, pyfaidx, argh, argcomplete, pybedtools, gffutils, splam\n",
            "Successfully installed argcomplete-3.1.1 argh-0.28.1 gffutils-0.11.1 pybedtools-0.9.0 pyfaidx-0.7.2.1 pysam-0.21.0 simplejson-3.19.1 splam-0.2.15\n"
          ]
        }
      ]
    },
    {
      "cell_type": "markdown",
      "source": [
        "### Checking installed splam version"
      ],
      "metadata": {
        "id": "7VV7lX62FhvX"
      }
    },
    {
      "cell_type": "code",
      "source": [
        "!splam -v"
      ],
      "metadata": {
        "id": "ApPE9y_h5ib9",
        "colab": {
          "base_uri": "https://localhost:8080/"
        },
        "outputId": "a3378b80-1b8a-461a-c069-7b20eb36c2f8"
      },
      "execution_count": 9,
      "outputs": [
        {
          "output_type": "stream",
          "name": "stdout",
          "text": [
            "====================================================================\n",
            "An accurate spliced alignment pruner and spliced junction predictor.\n",
            "====================================================================\n",
            "\n",
            "\n",
            "  ███████╗██████╗ ██╗      █████╗ ███╗   ███╗\n",
            "  ██╔════╝██╔══██╗██║     ██╔══██╗████╗ ████║\n",
            "  ███████╗██████╔╝██║     ███████║██╔████╔██║\n",
            "  ╚════██║██╔═══╝ ██║     ██╔══██║██║╚██╔╝██║\n",
            "  ███████║██║     ███████╗██║  ██║██║ ╚═╝ ██║\n",
            "  ╚══════╝╚═╝     ╚══════╝╚═╝  ╚═╝╚═╝     ╚═╝\n",
            "    \n",
            "0.2.15\n"
          ]
        }
      ]
    },
    {
      "cell_type": "markdown",
      "source": [
        "Now splam is installed in colab. **We are good to go!**"
      ],
      "metadata": {
        "id": "hjgoZsVKGRpN"
      }
    },
    {
      "cell_type": "markdown",
      "source": [
        "\n",
        "\n",
        "---\n",
        "\n",
        "\n",
        "\n",
        "---\n",
        "\n",
        "<br>"
      ],
      "metadata": {
        "id": "--UmGfpMVn-S"
      }
    },
    {
      "cell_type": "markdown",
      "source": [
        "## Upload **data**"
      ],
      "metadata": {
        "id": "fItcWsFDJ33s"
      }
    },
    {
      "cell_type": "markdown",
      "source": [
        "### Upload example data for analysis"
      ],
      "metadata": {
        "id": "Y8WZy1iELeFM"
      }
    },
    {
      "cell_type": "markdown",
      "source": [
        "Please first download all the data in the [test/](https://github.com/Kuanhao-Chao/splam/tree/main/test) directory in the splam github repository.\n",
        "\n",
        "**Then** upload all of them using `files.upload()`"
      ],
      "metadata": {
        "id": "FaHO0PkhKF6a"
      }
    },
    {
      "cell_type": "code",
      "source": [
        "from google.colab import files\n",
        "uploaded = files.upload()"
      ],
      "metadata": {
        "colab": {
          "base_uri": "https://localhost:8080/",
          "height": 245
        },
        "id": "6noGhoAVKaPN",
        "outputId": "0cc4f5a4-dac8-42c7-8aa5-96c51ae0a81c"
      },
      "execution_count": 19,
      "outputs": [
        {
          "output_type": "display_data",
          "data": {
            "text/plain": [
              "<IPython.core.display.HTML object>"
            ],
            "text/html": [
              "\n",
              "     <input type=\"file\" id=\"files-5a174c48-33db-4029-bd54-27bec827c695\" name=\"files[]\" multiple disabled\n",
              "        style=\"border:none\" />\n",
              "     <output id=\"result-5a174c48-33db-4029-bd54-27bec827c695\">\n",
              "      Upload widget is only available when the cell has been executed in the\n",
              "      current browser session. Please rerun this cell to enable.\n",
              "      </output>\n",
              "      <script>// Copyright 2017 Google LLC\n",
              "//\n",
              "// Licensed under the Apache License, Version 2.0 (the \"License\");\n",
              "// you may not use this file except in compliance with the License.\n",
              "// You may obtain a copy of the License at\n",
              "//\n",
              "//      http://www.apache.org/licenses/LICENSE-2.0\n",
              "//\n",
              "// Unless required by applicable law or agreed to in writing, software\n",
              "// distributed under the License is distributed on an \"AS IS\" BASIS,\n",
              "// WITHOUT WARRANTIES OR CONDITIONS OF ANY KIND, either express or implied.\n",
              "// See the License for the specific language governing permissions and\n",
              "// limitations under the License.\n",
              "\n",
              "/**\n",
              " * @fileoverview Helpers for google.colab Python module.\n",
              " */\n",
              "(function(scope) {\n",
              "function span(text, styleAttributes = {}) {\n",
              "  const element = document.createElement('span');\n",
              "  element.textContent = text;\n",
              "  for (const key of Object.keys(styleAttributes)) {\n",
              "    element.style[key] = styleAttributes[key];\n",
              "  }\n",
              "  return element;\n",
              "}\n",
              "\n",
              "// Max number of bytes which will be uploaded at a time.\n",
              "const MAX_PAYLOAD_SIZE = 100 * 1024;\n",
              "\n",
              "function _uploadFiles(inputId, outputId) {\n",
              "  const steps = uploadFilesStep(inputId, outputId);\n",
              "  const outputElement = document.getElementById(outputId);\n",
              "  // Cache steps on the outputElement to make it available for the next call\n",
              "  // to uploadFilesContinue from Python.\n",
              "  outputElement.steps = steps;\n",
              "\n",
              "  return _uploadFilesContinue(outputId);\n",
              "}\n",
              "\n",
              "// This is roughly an async generator (not supported in the browser yet),\n",
              "// where there are multiple asynchronous steps and the Python side is going\n",
              "// to poll for completion of each step.\n",
              "// This uses a Promise to block the python side on completion of each step,\n",
              "// then passes the result of the previous step as the input to the next step.\n",
              "function _uploadFilesContinue(outputId) {\n",
              "  const outputElement = document.getElementById(outputId);\n",
              "  const steps = outputElement.steps;\n",
              "\n",
              "  const next = steps.next(outputElement.lastPromiseValue);\n",
              "  return Promise.resolve(next.value.promise).then((value) => {\n",
              "    // Cache the last promise value to make it available to the next\n",
              "    // step of the generator.\n",
              "    outputElement.lastPromiseValue = value;\n",
              "    return next.value.response;\n",
              "  });\n",
              "}\n",
              "\n",
              "/**\n",
              " * Generator function which is called between each async step of the upload\n",
              " * process.\n",
              " * @param {string} inputId Element ID of the input file picker element.\n",
              " * @param {string} outputId Element ID of the output display.\n",
              " * @return {!Iterable<!Object>} Iterable of next steps.\n",
              " */\n",
              "function* uploadFilesStep(inputId, outputId) {\n",
              "  const inputElement = document.getElementById(inputId);\n",
              "  inputElement.disabled = false;\n",
              "\n",
              "  const outputElement = document.getElementById(outputId);\n",
              "  outputElement.innerHTML = '';\n",
              "\n",
              "  const pickedPromise = new Promise((resolve) => {\n",
              "    inputElement.addEventListener('change', (e) => {\n",
              "      resolve(e.target.files);\n",
              "    });\n",
              "  });\n",
              "\n",
              "  const cancel = document.createElement('button');\n",
              "  inputElement.parentElement.appendChild(cancel);\n",
              "  cancel.textContent = 'Cancel upload';\n",
              "  const cancelPromise = new Promise((resolve) => {\n",
              "    cancel.onclick = () => {\n",
              "      resolve(null);\n",
              "    };\n",
              "  });\n",
              "\n",
              "  // Wait for the user to pick the files.\n",
              "  const files = yield {\n",
              "    promise: Promise.race([pickedPromise, cancelPromise]),\n",
              "    response: {\n",
              "      action: 'starting',\n",
              "    }\n",
              "  };\n",
              "\n",
              "  cancel.remove();\n",
              "\n",
              "  // Disable the input element since further picks are not allowed.\n",
              "  inputElement.disabled = true;\n",
              "\n",
              "  if (!files) {\n",
              "    return {\n",
              "      response: {\n",
              "        action: 'complete',\n",
              "      }\n",
              "    };\n",
              "  }\n",
              "\n",
              "  for (const file of files) {\n",
              "    const li = document.createElement('li');\n",
              "    li.append(span(file.name, {fontWeight: 'bold'}));\n",
              "    li.append(span(\n",
              "        `(${file.type || 'n/a'}) - ${file.size} bytes, ` +\n",
              "        `last modified: ${\n",
              "            file.lastModifiedDate ? file.lastModifiedDate.toLocaleDateString() :\n",
              "                                    'n/a'} - `));\n",
              "    const percent = span('0% done');\n",
              "    li.appendChild(percent);\n",
              "\n",
              "    outputElement.appendChild(li);\n",
              "\n",
              "    const fileDataPromise = new Promise((resolve) => {\n",
              "      const reader = new FileReader();\n",
              "      reader.onload = (e) => {\n",
              "        resolve(e.target.result);\n",
              "      };\n",
              "      reader.readAsArrayBuffer(file);\n",
              "    });\n",
              "    // Wait for the data to be ready.\n",
              "    let fileData = yield {\n",
              "      promise: fileDataPromise,\n",
              "      response: {\n",
              "        action: 'continue',\n",
              "      }\n",
              "    };\n",
              "\n",
              "    // Use a chunked sending to avoid message size limits. See b/62115660.\n",
              "    let position = 0;\n",
              "    do {\n",
              "      const length = Math.min(fileData.byteLength - position, MAX_PAYLOAD_SIZE);\n",
              "      const chunk = new Uint8Array(fileData, position, length);\n",
              "      position += length;\n",
              "\n",
              "      const base64 = btoa(String.fromCharCode.apply(null, chunk));\n",
              "      yield {\n",
              "        response: {\n",
              "          action: 'append',\n",
              "          file: file.name,\n",
              "          data: base64,\n",
              "        },\n",
              "      };\n",
              "\n",
              "      let percentDone = fileData.byteLength === 0 ?\n",
              "          100 :\n",
              "          Math.round((position / fileData.byteLength) * 100);\n",
              "      percent.textContent = `${percentDone}% done`;\n",
              "\n",
              "    } while (position < fileData.byteLength);\n",
              "  }\n",
              "\n",
              "  // All done.\n",
              "  yield {\n",
              "    response: {\n",
              "      action: 'complete',\n",
              "    }\n",
              "  };\n",
              "}\n",
              "\n",
              "scope.google = scope.google || {};\n",
              "scope.google.colab = scope.google.colab || {};\n",
              "scope.google.colab._files = {\n",
              "  _uploadFiles,\n",
              "  _uploadFilesContinue,\n",
              "};\n",
              "})(self);\n",
              "</script> "
            ]
          },
          "metadata": {}
        },
        {
          "output_type": "stream",
          "name": "stdout",
          "text": [
            "Saving all.def.junctions_subset.bed to all.def.junctions_subset.bed\n",
            "Saving chr9_subset.fa to chr9_subset.fa\n",
            "Saving chr9_subset.fa.fai to chr9_subset.fa.fai\n",
            "Saving MANE.GRCh38.v1.1.subset.gff to MANE.GRCh38.v1.1.subset.gff\n",
            "Saving SRR1352129_chr9_sub.bam to SRR1352129_chr9_sub.bam\n",
            "Saving SRR1352129_chr9_sub.bam.bai to SRR1352129_chr9_sub.bam.bai\n"
          ]
        }
      ]
    },
    {
      "cell_type": "markdown",
      "source": [
        "### Upload splam model"
      ],
      "metadata": {
        "id": "k2anJtxULo-1"
      }
    },
    {
      "cell_type": "markdown",
      "source": [
        "Please download the [splam model](https://github.com/Kuanhao-Chao/splam/blob/main/model/splam_script.pt) from the splam github repository and upload it to colab.\n"
      ],
      "metadata": {
        "id": "mhtLDATpLuJU"
      }
    },
    {
      "cell_type": "code",
      "source": [
        "uploaded = files.upload()"
      ],
      "metadata": {
        "colab": {
          "base_uri": "https://localhost:8080/",
          "height": 72
        },
        "id": "3CGeEcy-L92a",
        "outputId": "95633d03-efee-4836-ff89-82b51068d762"
      },
      "execution_count": 21,
      "outputs": [
        {
          "output_type": "display_data",
          "data": {
            "text/plain": [
              "<IPython.core.display.HTML object>"
            ],
            "text/html": [
              "\n",
              "     <input type=\"file\" id=\"files-43b815e4-b08e-4f55-a6da-f2ca5a978022\" name=\"files[]\" multiple disabled\n",
              "        style=\"border:none\" />\n",
              "     <output id=\"result-43b815e4-b08e-4f55-a6da-f2ca5a978022\">\n",
              "      Upload widget is only available when the cell has been executed in the\n",
              "      current browser session. Please rerun this cell to enable.\n",
              "      </output>\n",
              "      <script>// Copyright 2017 Google LLC\n",
              "//\n",
              "// Licensed under the Apache License, Version 2.0 (the \"License\");\n",
              "// you may not use this file except in compliance with the License.\n",
              "// You may obtain a copy of the License at\n",
              "//\n",
              "//      http://www.apache.org/licenses/LICENSE-2.0\n",
              "//\n",
              "// Unless required by applicable law or agreed to in writing, software\n",
              "// distributed under the License is distributed on an \"AS IS\" BASIS,\n",
              "// WITHOUT WARRANTIES OR CONDITIONS OF ANY KIND, either express or implied.\n",
              "// See the License for the specific language governing permissions and\n",
              "// limitations under the License.\n",
              "\n",
              "/**\n",
              " * @fileoverview Helpers for google.colab Python module.\n",
              " */\n",
              "(function(scope) {\n",
              "function span(text, styleAttributes = {}) {\n",
              "  const element = document.createElement('span');\n",
              "  element.textContent = text;\n",
              "  for (const key of Object.keys(styleAttributes)) {\n",
              "    element.style[key] = styleAttributes[key];\n",
              "  }\n",
              "  return element;\n",
              "}\n",
              "\n",
              "// Max number of bytes which will be uploaded at a time.\n",
              "const MAX_PAYLOAD_SIZE = 100 * 1024;\n",
              "\n",
              "function _uploadFiles(inputId, outputId) {\n",
              "  const steps = uploadFilesStep(inputId, outputId);\n",
              "  const outputElement = document.getElementById(outputId);\n",
              "  // Cache steps on the outputElement to make it available for the next call\n",
              "  // to uploadFilesContinue from Python.\n",
              "  outputElement.steps = steps;\n",
              "\n",
              "  return _uploadFilesContinue(outputId);\n",
              "}\n",
              "\n",
              "// This is roughly an async generator (not supported in the browser yet),\n",
              "// where there are multiple asynchronous steps and the Python side is going\n",
              "// to poll for completion of each step.\n",
              "// This uses a Promise to block the python side on completion of each step,\n",
              "// then passes the result of the previous step as the input to the next step.\n",
              "function _uploadFilesContinue(outputId) {\n",
              "  const outputElement = document.getElementById(outputId);\n",
              "  const steps = outputElement.steps;\n",
              "\n",
              "  const next = steps.next(outputElement.lastPromiseValue);\n",
              "  return Promise.resolve(next.value.promise).then((value) => {\n",
              "    // Cache the last promise value to make it available to the next\n",
              "    // step of the generator.\n",
              "    outputElement.lastPromiseValue = value;\n",
              "    return next.value.response;\n",
              "  });\n",
              "}\n",
              "\n",
              "/**\n",
              " * Generator function which is called between each async step of the upload\n",
              " * process.\n",
              " * @param {string} inputId Element ID of the input file picker element.\n",
              " * @param {string} outputId Element ID of the output display.\n",
              " * @return {!Iterable<!Object>} Iterable of next steps.\n",
              " */\n",
              "function* uploadFilesStep(inputId, outputId) {\n",
              "  const inputElement = document.getElementById(inputId);\n",
              "  inputElement.disabled = false;\n",
              "\n",
              "  const outputElement = document.getElementById(outputId);\n",
              "  outputElement.innerHTML = '';\n",
              "\n",
              "  const pickedPromise = new Promise((resolve) => {\n",
              "    inputElement.addEventListener('change', (e) => {\n",
              "      resolve(e.target.files);\n",
              "    });\n",
              "  });\n",
              "\n",
              "  const cancel = document.createElement('button');\n",
              "  inputElement.parentElement.appendChild(cancel);\n",
              "  cancel.textContent = 'Cancel upload';\n",
              "  const cancelPromise = new Promise((resolve) => {\n",
              "    cancel.onclick = () => {\n",
              "      resolve(null);\n",
              "    };\n",
              "  });\n",
              "\n",
              "  // Wait for the user to pick the files.\n",
              "  const files = yield {\n",
              "    promise: Promise.race([pickedPromise, cancelPromise]),\n",
              "    response: {\n",
              "      action: 'starting',\n",
              "    }\n",
              "  };\n",
              "\n",
              "  cancel.remove();\n",
              "\n",
              "  // Disable the input element since further picks are not allowed.\n",
              "  inputElement.disabled = true;\n",
              "\n",
              "  if (!files) {\n",
              "    return {\n",
              "      response: {\n",
              "        action: 'complete',\n",
              "      }\n",
              "    };\n",
              "  }\n",
              "\n",
              "  for (const file of files) {\n",
              "    const li = document.createElement('li');\n",
              "    li.append(span(file.name, {fontWeight: 'bold'}));\n",
              "    li.append(span(\n",
              "        `(${file.type || 'n/a'}) - ${file.size} bytes, ` +\n",
              "        `last modified: ${\n",
              "            file.lastModifiedDate ? file.lastModifiedDate.toLocaleDateString() :\n",
              "                                    'n/a'} - `));\n",
              "    const percent = span('0% done');\n",
              "    li.appendChild(percent);\n",
              "\n",
              "    outputElement.appendChild(li);\n",
              "\n",
              "    const fileDataPromise = new Promise((resolve) => {\n",
              "      const reader = new FileReader();\n",
              "      reader.onload = (e) => {\n",
              "        resolve(e.target.result);\n",
              "      };\n",
              "      reader.readAsArrayBuffer(file);\n",
              "    });\n",
              "    // Wait for the data to be ready.\n",
              "    let fileData = yield {\n",
              "      promise: fileDataPromise,\n",
              "      response: {\n",
              "        action: 'continue',\n",
              "      }\n",
              "    };\n",
              "\n",
              "    // Use a chunked sending to avoid message size limits. See b/62115660.\n",
              "    let position = 0;\n",
              "    do {\n",
              "      const length = Math.min(fileData.byteLength - position, MAX_PAYLOAD_SIZE);\n",
              "      const chunk = new Uint8Array(fileData, position, length);\n",
              "      position += length;\n",
              "\n",
              "      const base64 = btoa(String.fromCharCode.apply(null, chunk));\n",
              "      yield {\n",
              "        response: {\n",
              "          action: 'append',\n",
              "          file: file.name,\n",
              "          data: base64,\n",
              "        },\n",
              "      };\n",
              "\n",
              "      let percentDone = fileData.byteLength === 0 ?\n",
              "          100 :\n",
              "          Math.round((position / fileData.byteLength) * 100);\n",
              "      percent.textContent = `${percentDone}% done`;\n",
              "\n",
              "    } while (position < fileData.byteLength);\n",
              "  }\n",
              "\n",
              "  // All done.\n",
              "  yield {\n",
              "    response: {\n",
              "      action: 'complete',\n",
              "    }\n",
              "  };\n",
              "}\n",
              "\n",
              "scope.google = scope.google || {};\n",
              "scope.google.colab = scope.google.colab || {};\n",
              "scope.google.colab._files = {\n",
              "  _uploadFiles,\n",
              "  _uploadFilesContinue,\n",
              "};\n",
              "})(self);\n",
              "</script> "
            ]
          },
          "metadata": {}
        },
        {
          "output_type": "stream",
          "name": "stdout",
          "text": [
            "Saving splam_script.pt to splam_script.pt\n"
          ]
        }
      ]
    },
    {
      "cell_type": "markdown",
      "source": [
        "### Upload bedtools library"
      ],
      "metadata": {
        "id": "7_b-LujlOkWY"
      }
    },
    {
      "cell_type": "markdown",
      "source": [
        "Please download the statically-linked bedtools binaries [bedtools.static.binary](https://github.com/arq5x/bedtools2/releases/download/v2.31.0/bedtools.static) from the splam github repository and upload it to colab.\n",
        "\n",
        "Since splam depends on [pybedtools](https://daler.github.io/pybedtools/), and it requires [bedtools](https://bedtools.readthedocs.io/en/latest/index.html) to be installed.\n"
      ],
      "metadata": {
        "id": "mjX8shIQOvA7"
      }
    },
    {
      "cell_type": "code",
      "source": [
        "uploaded = files.upload()"
      ],
      "metadata": {
        "colab": {
          "base_uri": "https://localhost:8080/",
          "height": 72
        },
        "id": "zWVbWxn_OPMt",
        "outputId": "3e02a6d0-2b46-49d6-f129-d3ee8724857f"
      },
      "execution_count": 37,
      "outputs": [
        {
          "output_type": "display_data",
          "data": {
            "text/plain": [
              "<IPython.core.display.HTML object>"
            ],
            "text/html": [
              "\n",
              "     <input type=\"file\" id=\"files-c748354e-6217-4c1f-b956-60c6c817111b\" name=\"files[]\" multiple disabled\n",
              "        style=\"border:none\" />\n",
              "     <output id=\"result-c748354e-6217-4c1f-b956-60c6c817111b\">\n",
              "      Upload widget is only available when the cell has been executed in the\n",
              "      current browser session. Please rerun this cell to enable.\n",
              "      </output>\n",
              "      <script>// Copyright 2017 Google LLC\n",
              "//\n",
              "// Licensed under the Apache License, Version 2.0 (the \"License\");\n",
              "// you may not use this file except in compliance with the License.\n",
              "// You may obtain a copy of the License at\n",
              "//\n",
              "//      http://www.apache.org/licenses/LICENSE-2.0\n",
              "//\n",
              "// Unless required by applicable law or agreed to in writing, software\n",
              "// distributed under the License is distributed on an \"AS IS\" BASIS,\n",
              "// WITHOUT WARRANTIES OR CONDITIONS OF ANY KIND, either express or implied.\n",
              "// See the License for the specific language governing permissions and\n",
              "// limitations under the License.\n",
              "\n",
              "/**\n",
              " * @fileoverview Helpers for google.colab Python module.\n",
              " */\n",
              "(function(scope) {\n",
              "function span(text, styleAttributes = {}) {\n",
              "  const element = document.createElement('span');\n",
              "  element.textContent = text;\n",
              "  for (const key of Object.keys(styleAttributes)) {\n",
              "    element.style[key] = styleAttributes[key];\n",
              "  }\n",
              "  return element;\n",
              "}\n",
              "\n",
              "// Max number of bytes which will be uploaded at a time.\n",
              "const MAX_PAYLOAD_SIZE = 100 * 1024;\n",
              "\n",
              "function _uploadFiles(inputId, outputId) {\n",
              "  const steps = uploadFilesStep(inputId, outputId);\n",
              "  const outputElement = document.getElementById(outputId);\n",
              "  // Cache steps on the outputElement to make it available for the next call\n",
              "  // to uploadFilesContinue from Python.\n",
              "  outputElement.steps = steps;\n",
              "\n",
              "  return _uploadFilesContinue(outputId);\n",
              "}\n",
              "\n",
              "// This is roughly an async generator (not supported in the browser yet),\n",
              "// where there are multiple asynchronous steps and the Python side is going\n",
              "// to poll for completion of each step.\n",
              "// This uses a Promise to block the python side on completion of each step,\n",
              "// then passes the result of the previous step as the input to the next step.\n",
              "function _uploadFilesContinue(outputId) {\n",
              "  const outputElement = document.getElementById(outputId);\n",
              "  const steps = outputElement.steps;\n",
              "\n",
              "  const next = steps.next(outputElement.lastPromiseValue);\n",
              "  return Promise.resolve(next.value.promise).then((value) => {\n",
              "    // Cache the last promise value to make it available to the next\n",
              "    // step of the generator.\n",
              "    outputElement.lastPromiseValue = value;\n",
              "    return next.value.response;\n",
              "  });\n",
              "}\n",
              "\n",
              "/**\n",
              " * Generator function which is called between each async step of the upload\n",
              " * process.\n",
              " * @param {string} inputId Element ID of the input file picker element.\n",
              " * @param {string} outputId Element ID of the output display.\n",
              " * @return {!Iterable<!Object>} Iterable of next steps.\n",
              " */\n",
              "function* uploadFilesStep(inputId, outputId) {\n",
              "  const inputElement = document.getElementById(inputId);\n",
              "  inputElement.disabled = false;\n",
              "\n",
              "  const outputElement = document.getElementById(outputId);\n",
              "  outputElement.innerHTML = '';\n",
              "\n",
              "  const pickedPromise = new Promise((resolve) => {\n",
              "    inputElement.addEventListener('change', (e) => {\n",
              "      resolve(e.target.files);\n",
              "    });\n",
              "  });\n",
              "\n",
              "  const cancel = document.createElement('button');\n",
              "  inputElement.parentElement.appendChild(cancel);\n",
              "  cancel.textContent = 'Cancel upload';\n",
              "  const cancelPromise = new Promise((resolve) => {\n",
              "    cancel.onclick = () => {\n",
              "      resolve(null);\n",
              "    };\n",
              "  });\n",
              "\n",
              "  // Wait for the user to pick the files.\n",
              "  const files = yield {\n",
              "    promise: Promise.race([pickedPromise, cancelPromise]),\n",
              "    response: {\n",
              "      action: 'starting',\n",
              "    }\n",
              "  };\n",
              "\n",
              "  cancel.remove();\n",
              "\n",
              "  // Disable the input element since further picks are not allowed.\n",
              "  inputElement.disabled = true;\n",
              "\n",
              "  if (!files) {\n",
              "    return {\n",
              "      response: {\n",
              "        action: 'complete',\n",
              "      }\n",
              "    };\n",
              "  }\n",
              "\n",
              "  for (const file of files) {\n",
              "    const li = document.createElement('li');\n",
              "    li.append(span(file.name, {fontWeight: 'bold'}));\n",
              "    li.append(span(\n",
              "        `(${file.type || 'n/a'}) - ${file.size} bytes, ` +\n",
              "        `last modified: ${\n",
              "            file.lastModifiedDate ? file.lastModifiedDate.toLocaleDateString() :\n",
              "                                    'n/a'} - `));\n",
              "    const percent = span('0% done');\n",
              "    li.appendChild(percent);\n",
              "\n",
              "    outputElement.appendChild(li);\n",
              "\n",
              "    const fileDataPromise = new Promise((resolve) => {\n",
              "      const reader = new FileReader();\n",
              "      reader.onload = (e) => {\n",
              "        resolve(e.target.result);\n",
              "      };\n",
              "      reader.readAsArrayBuffer(file);\n",
              "    });\n",
              "    // Wait for the data to be ready.\n",
              "    let fileData = yield {\n",
              "      promise: fileDataPromise,\n",
              "      response: {\n",
              "        action: 'continue',\n",
              "      }\n",
              "    };\n",
              "\n",
              "    // Use a chunked sending to avoid message size limits. See b/62115660.\n",
              "    let position = 0;\n",
              "    do {\n",
              "      const length = Math.min(fileData.byteLength - position, MAX_PAYLOAD_SIZE);\n",
              "      const chunk = new Uint8Array(fileData, position, length);\n",
              "      position += length;\n",
              "\n",
              "      const base64 = btoa(String.fromCharCode.apply(null, chunk));\n",
              "      yield {\n",
              "        response: {\n",
              "          action: 'append',\n",
              "          file: file.name,\n",
              "          data: base64,\n",
              "        },\n",
              "      };\n",
              "\n",
              "      let percentDone = fileData.byteLength === 0 ?\n",
              "          100 :\n",
              "          Math.round((position / fileData.byteLength) * 100);\n",
              "      percent.textContent = `${percentDone}% done`;\n",
              "\n",
              "    } while (position < fileData.byteLength);\n",
              "  }\n",
              "\n",
              "  // All done.\n",
              "  yield {\n",
              "    response: {\n",
              "      action: 'complete',\n",
              "    }\n",
              "  };\n",
              "}\n",
              "\n",
              "scope.google = scope.google || {};\n",
              "scope.google.colab = scope.google.colab || {};\n",
              "scope.google.colab._files = {\n",
              "  _uploadFiles,\n",
              "  _uploadFilesContinue,\n",
              "};\n",
              "})(self);\n",
              "</script> "
            ]
          },
          "metadata": {}
        },
        {
          "output_type": "stream",
          "name": "stdout",
          "text": [
            "Saving bedtools.static to bedtools.static\n"
          ]
        }
      ]
    },
    {
      "cell_type": "markdown",
      "source": [
        "Now, move the bedtools binary file to a location where splam can locate it."
      ],
      "metadata": {
        "id": "ItYE_3avQYgi"
      }
    },
    {
      "cell_type": "code",
      "source": [
        "!mv bedtools.static bedtools\n",
        "!chmod a+x bedtools\n",
        "!cp bedtools /usr/local/bin/bedtools"
      ],
      "metadata": {
        "id": "uFkWxc6bO55X"
      },
      "execution_count": 55,
      "outputs": []
    },
    {
      "cell_type": "markdown",
      "source": [
        "To ensure that bedtools is installed correctly, check the bedtools version."
      ],
      "metadata": {
        "id": "kFSx3TwaQ4mh"
      }
    },
    {
      "cell_type": "code",
      "source": [
        "!bedtools --version"
      ],
      "metadata": {
        "colab": {
          "base_uri": "https://localhost:8080/"
        },
        "id": "pOa1P2gjRF4z",
        "outputId": "bb2c297b-073a-44bc-e928-bce36ebd48e5"
      },
      "execution_count": 61,
      "outputs": [
        {
          "output_type": "stream",
          "name": "stdout",
          "text": [
            "bedtools v2.31.0\n"
          ]
        }
      ]
    },
    {
      "cell_type": "markdown",
      "source": [
        "\n",
        "\n",
        "---\n",
        "\n",
        "---\n",
        "\n",
        "<br>\n",
        "\n"
      ],
      "metadata": {
        "id": "94QZpTu7hTQu"
      }
    },
    {
      "cell_type": "markdown",
      "source": [
        "## Remove low confidence spliced alignments"
      ],
      "metadata": {
        "id": "bqJEE_zbGqtp"
      }
    },
    {
      "cell_type": "markdown",
      "source": [
        "### Step 1: Extracting splice junctions in your alignment file"
      ],
      "metadata": {
        "id": "GexjkYYcRQ1j"
      }
    },
    {
      "cell_type": "markdown",
      "source": [
        "In this step, you take a sorted alignment file and run the following command. The primary outputs for this step is a BED file containing the coordinates of each junction and some temporary files.\n",
        "\n",
        "Run with `splam extract`"
      ],
      "metadata": {
        "id": "jWkDVhiQRm3L"
      }
    },
    {
      "cell_type": "code",
      "source": [
        "!splam extract -P -o tmp_out SRR1352129_chr9_sub.bam"
      ],
      "metadata": {
        "colab": {
          "base_uri": "https://localhost:8080/"
        },
        "id": "gcG-sLafH-b1",
        "outputId": "8adb0606-bdcf-4927-c12a-27a1c40ad3cd"
      },
      "execution_count": 20,
      "outputs": [
        {
          "output_type": "stream",
          "name": "stdout",
          "text": [
            "====================================================================\n",
            "An accurate spliced alignment pruner and spliced junction predictor.\n",
            "====================================================================\n",
            "\n",
            "\n",
            "  ███████╗██████╗ ██╗      █████╗ ███╗   ███╗\n",
            "  ██╔════╝██╔══██╗██║     ██╔══██╗████╗ ████║\n",
            "  ███████╗██████╔╝██║     ███████║██╔████╔██║\n",
            "  ╚════██║██╔═══╝ ██║     ██╔══██║██║╚██╔╝██║\n",
            "  ███████║██║     ███████╗██║  ██║██║ ╚═╝ ██║\n",
            "  ╚══════╝╚═╝     ╚══════╝╚═╝  ╚═╝╚═╝     ╚═╝\n",
            "    \n",
            "g_paired_removal: 1\n",
            "current boundaries: 11632 - 136007110\n",
            "\t* # alignments processed: 9802!\n",
            "\n",
            "[INFO] Total number of alignments\t:      9802 \n",
            "           paired alignments\t\t:      8728 \n",
            "               spliced alignments\t:      2810 \n",
            "                   - uniquely mapped\t:      1288\n",
            "                   - multi-mapped\t:      1522\n",
            "               non-spliced alignments\t:      5918 \n",
            "                   - uniquely mapped\t:       396\n",
            "                   - multi-mapped\t:      5522\n",
            "\n",
            "           unpaired alignments\t\t:      1074 \n",
            "               spliced alignments\t:       219 \n",
            "                   - uniquely mapped\t:        54\n",
            "                   - multi-mapped\t:       165\n",
            "               non-spliced alignments\t:       855 \n",
            "                   - uniquely mapped\t:        64\n",
            "                   - multi-mapped\t:       791\n",
            "\n",
            "\n",
            "[INFO] Total number of junctions\t:        31\n"
          ]
        }
      ]
    },
    {
      "cell_type": "markdown",
      "source": [
        "### Step 2: Scoring extracted splice junctions"
      ],
      "metadata": {
        "id": "7NfMoC4CRa02"
      }
    },
    {
      "cell_type": "markdown",
      "source": [
        "In this step, splam scores all the extracted splice junctions from the previous step.\n",
        "\n",
        "Run with `splam score`"
      ],
      "metadata": {
        "id": "_bJ9UPckRz0l"
      }
    },
    {
      "cell_type": "code",
      "source": [
        "!splam score -G chr9_subset.fa -m splam_script.pt tmp_out/junction.bed"
      ],
      "metadata": {
        "colab": {
          "base_uri": "https://localhost:8080/"
        },
        "id": "678uREUlJLOt",
        "outputId": "3473c772-226b-4810-b13d-8970a5724f96"
      },
      "execution_count": 57,
      "outputs": [
        {
          "output_type": "stream",
          "name": "stdout",
          "text": [
            "====================================================================\n",
            "An accurate spliced alignment pruner and spliced junction predictor.\n",
            "====================================================================\n",
            "\n",
            "\n",
            "  ███████╗██████╗ ██╗      █████╗ ███╗   ███╗\n",
            "  ██╔════╝██╔══██╗██║     ██╔══██╗████╗ ████║\n",
            "  ███████╗██████╔╝██║     ███████║██╔████╔██║\n",
            "  ╚════██║██╔═══╝ ██║     ██╔══██║██║╚██╔╝██║\n",
            "  ███████║██║     ███████╗██║  ██║██║ ╚═╝ ██║\n",
            "  ╚══════╝╚═╝     ╚══════╝╚═╝  ╚═╝╚═╝     ╚═╝\n",
            "    \n",
            "[Info] Running model in \"cpu\" mode\n",
            "[Info] Loading model ... (splam_script.pt)\n",
            "[Info] Done loading model\n",
            "[Info] Loading data ...\n",
            "\t 31  junctions loaded.\n",
            "[Info] Done loading data\n",
            "[Info] SPLAM!  |################################| 4/4\n",
            "\u001b[?25h"
          ]
        }
      ]
    },
    {
      "cell_type": "markdown",
      "source": [
        "### Step 3: Cleaning up your alignment file"
      ],
      "metadata": {
        "id": "3u6E2QNtReI2"
      }
    },
    {
      "cell_type": "markdown",
      "source": [
        "The final step of this analysis is to remove alignments with low-quality splice junctions and update 'NH' tag and flags for multi-mapped reads.\n",
        "\n",
        "Run with `splam clean`"
      ],
      "metadata": {
        "id": "uDiR1K7cSagc"
      }
    },
    {
      "cell_type": "code",
      "source": [
        "! splam clean -o tmp_out"
      ],
      "metadata": {
        "colab": {
          "base_uri": "https://localhost:8080/"
        },
        "id": "thBMScKOMIDk",
        "outputId": "b04bd75d-b9c8-43d6-9626-38466545a077"
      },
      "execution_count": 58,
      "outputs": [
        {
          "output_type": "stream",
          "name": "stdout",
          "text": [
            "====================================================================\n",
            "An accurate spliced alignment pruner and spliced junction predictor.\n",
            "====================================================================\n",
            "\n",
            "\n",
            "  ███████╗██████╗ ██╗      █████╗ ███╗   ███╗\n",
            "  ██╔════╝██╔══██╗██║     ██╔══██╗████╗ ████║\n",
            "  ███████╗██████╔╝██║     ███████║██╔████╔██║\n",
            "  ╚════██║██╔═══╝ ██║     ██╔══██║██║╚██╔╝██║\n",
            "  ███████║██║     ███████╗██║  ██║██║ ╚═╝ ██║\n",
            "  ╚══════╝╚═╝     ╚══════╝╚═╝  ╚═╝╚═╝     ╚═╝\n",
            "    \n",
            "threshold: 0.100000\n",
            "inbedname: tmp_out/junction_score.bed\n",
            "[INFO] SPLAM! Filtering spliced unique alignments (paired) \n",
            "[INFO] SPLAM! Filtering spliced multi-mapped alignments (paired) \n",
            "[INFO] SPLAM! Filtering spliced unique alignments (unpaired)\n",
            "[INFO] SPLAM! Filtering spliced multi-mapped alignments (unpaired)\n",
            "[INFO] SPLAM! Processing multi-mapped spliced alignments (paired)\n",
            "[INFO] SPLAM! Processing multi-mapped non-spliced alignments (paired)\n",
            "[INFO] SPLAM! Processing multi-mapped spliced alignments (unpaired)\n",
            "[INFO] SPLAM! Processing multi-mapped non-spliced alignments (unpaired)\n",
            "Outside of merging all files into a clean BAM file!\n",
            "Numver of input argument!: 15\n",
            "\n",
            "[INFO] Total number of spliced alignments\t:      3029 \n",
            "           paired spliced alignments\t\t:      2810 \n",
            "               - uniquely mapped\t\t:      1288   (kept: 1286 / removed: 2 )\n",
            "               - multi-mapped\t\t\t:      1522   (kept: 1522 / removed: 0 )\n",
            "           unpaired spliced alignments\t\t:       219 \n",
            "               - uniquely mapped\t\t:        54   (kept: 53 / removed: 1 )\n",
            "               - multi-mapped\t\t\t:       165   (kept: 164 / removed: 1 )\n",
            "\n",
            "[INFO] Number of junctions\t\t\t:        31   (good: 26 / bad: 4 / unstranded: 1)\n",
            "\n",
            "[INFO] Number of removed spliced alignments\t:         4 \n",
            "[INFO] Number of kept spliced alignments\t:      3025 \n"
          ]
        }
      ]
    },
    {
      "cell_type": "markdown",
      "source": [
        "### Check the output"
      ],
      "metadata": {
        "id": "Nmjhk-LlSnwo"
      }
    },
    {
      "cell_type": "markdown",
      "source": [
        "Congratulations! You have finished the splam spliced alignment removal analysis. You should get a cleaned, sorted alignment file in `BAM` format. It is at `tmp_out/cleaned.bam`.\n",
        "\n",
        "The scores of all splice junctions in the `BAM` file is at `tmp_out/junction_score.bed`"
      ],
      "metadata": {
        "id": "KpeSrcCySsWC"
      }
    },
    {
      "cell_type": "code",
      "source": [
        "files.download('tmp_out/cleaned.bam')"
      ],
      "metadata": {
        "colab": {
          "base_uri": "https://localhost:8080/",
          "height": 17
        },
        "id": "gPqPMGbGU33o",
        "outputId": "fe0301c5-d16b-4857-9628-aa95e18b975c"
      },
      "execution_count": 66,
      "outputs": [
        {
          "output_type": "display_data",
          "data": {
            "text/plain": [
              "<IPython.core.display.Javascript object>"
            ],
            "application/javascript": [
              "\n",
              "    async function download(id, filename, size) {\n",
              "      if (!google.colab.kernel.accessAllowed) {\n",
              "        return;\n",
              "      }\n",
              "      const div = document.createElement('div');\n",
              "      const label = document.createElement('label');\n",
              "      label.textContent = `Downloading \"${filename}\": `;\n",
              "      div.appendChild(label);\n",
              "      const progress = document.createElement('progress');\n",
              "      progress.max = size;\n",
              "      div.appendChild(progress);\n",
              "      document.body.appendChild(div);\n",
              "\n",
              "      const buffers = [];\n",
              "      let downloaded = 0;\n",
              "\n",
              "      const channel = await google.colab.kernel.comms.open(id);\n",
              "      // Send a message to notify the kernel that we're ready.\n",
              "      channel.send({})\n",
              "\n",
              "      for await (const message of channel.messages) {\n",
              "        // Send a message to notify the kernel that we're ready.\n",
              "        channel.send({})\n",
              "        if (message.buffers) {\n",
              "          for (const buffer of message.buffers) {\n",
              "            buffers.push(buffer);\n",
              "            downloaded += buffer.byteLength;\n",
              "            progress.value = downloaded;\n",
              "          }\n",
              "        }\n",
              "      }\n",
              "      const blob = new Blob(buffers, {type: 'application/binary'});\n",
              "      const a = document.createElement('a');\n",
              "      a.href = window.URL.createObjectURL(blob);\n",
              "      a.download = filename;\n",
              "      div.appendChild(a);\n",
              "      a.click();\n",
              "      div.remove();\n",
              "    }\n",
              "  "
            ]
          },
          "metadata": {}
        },
        {
          "output_type": "display_data",
          "data": {
            "text/plain": [
              "<IPython.core.display.Javascript object>"
            ],
            "application/javascript": [
              "download(\"download_98d28897-4062-4bb3-bd78-c90143485494\", \"cleaned.bam\", 449802)"
            ]
          },
          "metadata": {}
        },
        {
          "output_type": "display_data",
          "data": {
            "text/plain": [
              "<IPython.core.display.Javascript object>"
            ],
            "application/javascript": [
              "\n",
              "    async function download(id, filename, size) {\n",
              "      if (!google.colab.kernel.accessAllowed) {\n",
              "        return;\n",
              "      }\n",
              "      const div = document.createElement('div');\n",
              "      const label = document.createElement('label');\n",
              "      label.textContent = `Downloading \"${filename}\": `;\n",
              "      div.appendChild(label);\n",
              "      const progress = document.createElement('progress');\n",
              "      progress.max = size;\n",
              "      div.appendChild(progress);\n",
              "      document.body.appendChild(div);\n",
              "\n",
              "      const buffers = [];\n",
              "      let downloaded = 0;\n",
              "\n",
              "      const channel = await google.colab.kernel.comms.open(id);\n",
              "      // Send a message to notify the kernel that we're ready.\n",
              "      channel.send({})\n",
              "\n",
              "      for await (const message of channel.messages) {\n",
              "        // Send a message to notify the kernel that we're ready.\n",
              "        channel.send({})\n",
              "        if (message.buffers) {\n",
              "          for (const buffer of message.buffers) {\n",
              "            buffers.push(buffer);\n",
              "            downloaded += buffer.byteLength;\n",
              "            progress.value = downloaded;\n",
              "          }\n",
              "        }\n",
              "      }\n",
              "      const blob = new Blob(buffers, {type: 'application/binary'});\n",
              "      const a = document.createElement('a');\n",
              "      a.href = window.URL.createObjectURL(blob);\n",
              "      a.download = filename;\n",
              "      div.appendChild(a);\n",
              "      a.click();\n",
              "      div.remove();\n",
              "    }\n",
              "  "
            ]
          },
          "metadata": {}
        },
        {
          "output_type": "display_data",
          "data": {
            "text/plain": [
              "<IPython.core.display.Javascript object>"
            ],
            "application/javascript": [
              "download(\"download_153fee9c-91f4-4c39-bf62-c87f678c4fee\", \"junction_score.bed\", 1500)"
            ]
          },
          "metadata": {}
        }
      ]
    },
    {
      "cell_type": "code",
      "source": [
        "files.download('tmp_out/junction_score.bed')"
      ],
      "metadata": {
        "id": "dslspqSVnFTP"
      },
      "execution_count": null,
      "outputs": []
    },
    {
      "cell_type": "markdown",
      "source": [
        "\n",
        "\n",
        "---\n",
        "\n",
        "\n",
        "\n",
        "---\n",
        "<br>"
      ],
      "metadata": {
        "id": "QRKpIyEKnTyO"
      }
    },
    {
      "cell_type": "markdown",
      "source": [
        "## Evaluate annotation file / assembeled transcripts evaluation"
      ],
      "metadata": {
        "id": "FDNGw1_UTxLW"
      }
    },
    {
      "cell_type": "markdown",
      "source": [
        "### Step 1: Extracting introns in your annotation file"
      ],
      "metadata": {
        "id": "ZvtJdN-6UBaZ"
      }
    },
    {
      "cell_type": "markdown",
      "source": [
        "In this step, you take an annotation file and run the following command. splam iterates through the `GFF` file, extracts all introns in transcripts, and writes their coordinates into a BED file.\n",
        "\n",
        "Run with `splam extract`"
      ],
      "metadata": {
        "id": "bMTiAk4oUL3e"
      }
    },
    {
      "cell_type": "code",
      "source": [
        "! splam extract MANE.GRCh38.v1.1.subset.gff -o tmp_out_gff"
      ],
      "metadata": {
        "colab": {
          "base_uri": "https://localhost:8080/"
        },
        "id": "jz7EH1DZUTWB",
        "outputId": "79e3abac-8d81-4639-acc1-52bdf057d542"
      },
      "execution_count": 63,
      "outputs": [
        {
          "output_type": "stream",
          "name": "stdout",
          "text": [
            "====================================================================\n",
            "An accurate spliced alignment pruner and spliced junction predictor.\n",
            "====================================================================\n",
            "\n",
            "\n",
            "  ███████╗██████╗ ██╗      █████╗ ███╗   ███╗\n",
            "  ██╔════╝██╔══██╗██║     ██╔══██╗████╗ ████║\n",
            "  ███████╗██████╔╝██║     ███████║██╔████╔██║\n",
            "  ╚════██║██╔═══╝ ██║     ██╔══██║██║╚██╔╝██║\n",
            "  ███████║██║     ███████╗██║  ██║██║ ╚═╝ ██║\n",
            "  ╚══════╝╚═╝     ╚══════╝╚═╝  ╚═╝╚═╝     ╚═╝\n",
            "    \n",
            "gff_file:  MANE.GRCh38.v1.1.subset.gff\n",
            "gff_db:  tmp_out_gff/annotation.db\n",
            "bed_file:  tmp_out_gff/junction.bed\n",
            "2023-07-04 19:13:13,011 - INFO - Populating features\n",
            "Populating features table and first-order relations: 0 features\r2023-07-04 19:13:13,027 - INFO - Populating features table and first-order relations: 43 features\r\n",
            "2023-07-04 19:13:13,027 - INFO - Updating relations\n",
            "2023-07-04 19:13:13,035 - INFO - Creating relations(parent) index\n",
            "2023-07-04 19:13:13,036 - INFO - Creating relations(child) index\n",
            "2023-07-04 19:13:13,036 - INFO - Creating features(featuretype) index\n",
            "2023-07-04 19:13:13,036 - INFO - Creating features (seqid, start, end) index\n",
            "2023-07-04 19:13:13,036 - INFO - Creating features (seqid, start, end, strand) index\n",
            "2023-07-04 19:13:13,037 - INFO - Running ANALYZE features\n"
          ]
        }
      ]
    },
    {
      "cell_type": "markdown",
      "source": [
        "### Step 2: Scoring all extracted introns"
      ],
      "metadata": {
        "id": "FkUrs1lqUDcW"
      }
    },
    {
      "cell_type": "markdown",
      "source": [
        "We then run splam to score all the extracted splice junctions from the previous step."
      ],
      "metadata": {
        "id": "3tzMzMVLUaql"
      }
    },
    {
      "cell_type": "code",
      "source": [
        "! splam score -G chr9_subset.fa -m splam_script.pt -o tmp_out_gff tmp_out_gff/junction.bed"
      ],
      "metadata": {
        "colab": {
          "base_uri": "https://localhost:8080/"
        },
        "id": "yc2vftcUUacM",
        "outputId": "6ba786e4-f7d4-47f0-c8fa-81d98fae2b8f"
      },
      "execution_count": 64,
      "outputs": [
        {
          "output_type": "stream",
          "name": "stdout",
          "text": [
            "====================================================================\n",
            "An accurate spliced alignment pruner and spliced junction predictor.\n",
            "====================================================================\n",
            "\n",
            "\n",
            "  ███████╗██████╗ ██╗      █████╗ ███╗   ███╗\n",
            "  ██╔════╝██╔══██╗██║     ██╔══██╗████╗ ████║\n",
            "  ███████╗██████╔╝██║     ███████║██╔████╔██║\n",
            "  ╚════██║██╔═══╝ ██║     ██╔══██║██║╚██╔╝██║\n",
            "  ███████║██║     ███████╗██║  ██║██║ ╚═╝ ██║\n",
            "  ╚══════╝╚═╝     ╚══════╝╚═╝  ╚═╝╚═╝     ╚═╝\n",
            "    \n",
            "[Info] Running model in \"cpu\" mode\n",
            "[Info] Loading model ... (splam_script.pt)\n",
            "[Info] Done loading model\n",
            "[Info] Loading data ...\n",
            "\t 15  junctions loaded.\n",
            "[Info] Done loading data\n",
            "[Info] SPLAM!  |################################| 2/2\n",
            "\u001b[?25h"
          ]
        }
      ]
    },
    {
      "cell_type": "markdown",
      "source": [
        "Congratulations! You have finished the splam annotation file evaluation analysis!\n",
        "\n",
        "The scores of all introns in the annotation file is at `tmp_out_gff/junction_score.bed`"
      ],
      "metadata": {
        "id": "S2eafyWNVItG"
      }
    },
    {
      "cell_type": "code",
      "source": [
        "files.download('tmp_out_gff/junction_score.bed')"
      ],
      "metadata": {
        "colab": {
          "base_uri": "https://localhost:8080/",
          "height": 17
        },
        "id": "1IxDuj2vUsg9",
        "outputId": "00056d4b-aaf9-44ef-ad17-3b3475033843"
      },
      "execution_count": 68,
      "outputs": [
        {
          "output_type": "display_data",
          "data": {
            "text/plain": [
              "<IPython.core.display.Javascript object>"
            ],
            "application/javascript": [
              "\n",
              "    async function download(id, filename, size) {\n",
              "      if (!google.colab.kernel.accessAllowed) {\n",
              "        return;\n",
              "      }\n",
              "      const div = document.createElement('div');\n",
              "      const label = document.createElement('label');\n",
              "      label.textContent = `Downloading \"${filename}\": `;\n",
              "      div.appendChild(label);\n",
              "      const progress = document.createElement('progress');\n",
              "      progress.max = size;\n",
              "      div.appendChild(progress);\n",
              "      document.body.appendChild(div);\n",
              "\n",
              "      const buffers = [];\n",
              "      let downloaded = 0;\n",
              "\n",
              "      const channel = await google.colab.kernel.comms.open(id);\n",
              "      // Send a message to notify the kernel that we're ready.\n",
              "      channel.send({})\n",
              "\n",
              "      for await (const message of channel.messages) {\n",
              "        // Send a message to notify the kernel that we're ready.\n",
              "        channel.send({})\n",
              "        if (message.buffers) {\n",
              "          for (const buffer of message.buffers) {\n",
              "            buffers.push(buffer);\n",
              "            downloaded += buffer.byteLength;\n",
              "            progress.value = downloaded;\n",
              "          }\n",
              "        }\n",
              "      }\n",
              "      const blob = new Blob(buffers, {type: 'application/binary'});\n",
              "      const a = document.createElement('a');\n",
              "      a.href = window.URL.createObjectURL(blob);\n",
              "      a.download = filename;\n",
              "      div.appendChild(a);\n",
              "      a.click();\n",
              "      div.remove();\n",
              "    }\n",
              "  "
            ]
          },
          "metadata": {}
        },
        {
          "output_type": "display_data",
          "data": {
            "text/plain": [
              "<IPython.core.display.Javascript object>"
            ],
            "application/javascript": [
              "download(\"download_3083a34c-6e6b-4bce-8082-e63f983748d1\", \"junction_score.bed\", 882)"
            ]
          },
          "metadata": {}
        }
      ]
    }
  ]
}