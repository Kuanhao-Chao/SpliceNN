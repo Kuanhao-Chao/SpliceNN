{
  "nbformat": 4,
  "nbformat_minor": 0,
  "metadata": {
    "colab": {
      "provenance": [],
      "include_colab_link": true
    },
    "kernelspec": {
      "name": "python3",
      "display_name": "Python 3"
    },
    "language_info": {
      "name": "python"
    }
  },
  "cells": [
    {
      "cell_type": "markdown",
      "metadata": {
        "id": "view-in-github",
        "colab_type": "text"
      },
      "source": [
        "<a href=\"https://colab.research.google.com/github/Kuanhao-Chao/splam/blob/main/notebook/splam_example.ipynb\" target=\"_parent\"><img src=\"https://colab.research.google.com/assets/colab-badge.svg\" alt=\"Open In Colab\"/></a>"
      ]
    },
    {
      "cell_type": "markdown",
      "source": [
        "# Running splam on Google Colab"
      ],
      "metadata": {
        "id": "QM8Yc18e3jD8"
      }
    },
    {
      "cell_type": "markdown",
      "source": [
        "## Setup"
      ],
      "metadata": {
        "id": "fkwRpjgD343a"
      }
    },
    {
      "cell_type": "code",
      "source": [
        "!pip install torch"
      ],
      "metadata": {
        "colab": {
          "base_uri": "https://localhost:8080/"
        },
        "id": "sov0G5W634Dw",
        "outputId": "0170fb85-fd85-4afd-e097-7dca8dc968d8"
      },
      "execution_count": null,
      "outputs": [
        {
          "output_type": "stream",
          "name": "stdout",
          "text": [
            "Requirement already satisfied: torch in /usr/local/lib/python3.10/dist-packages (2.0.1+cu118)\n",
            "Requirement already satisfied: filelock in /usr/local/lib/python3.10/dist-packages (from torch) (3.12.2)\n",
            "Requirement already satisfied: typing-extensions in /usr/local/lib/python3.10/dist-packages (from torch) (4.6.3)\n",
            "Requirement already satisfied: sympy in /usr/local/lib/python3.10/dist-packages (from torch) (1.11.1)\n",
            "Requirement already satisfied: networkx in /usr/local/lib/python3.10/dist-packages (from torch) (3.1)\n",
            "Requirement already satisfied: jinja2 in /usr/local/lib/python3.10/dist-packages (from torch) (3.1.2)\n",
            "Requirement already satisfied: triton==2.0.0 in /usr/local/lib/python3.10/dist-packages (from torch) (2.0.0)\n",
            "Requirement already satisfied: cmake in /usr/local/lib/python3.10/dist-packages (from triton==2.0.0->torch) (3.25.2)\n",
            "Requirement already satisfied: lit in /usr/local/lib/python3.10/dist-packages (from triton==2.0.0->torch) (16.0.6)\n",
            "Requirement already satisfied: MarkupSafe>=2.0 in /usr/local/lib/python3.10/dist-packages (from jinja2->torch) (2.1.3)\n",
            "Requirement already satisfied: mpmath>=0.19 in /usr/local/lib/python3.10/dist-packages (from sympy->torch) (1.3.0)\n"
          ]
        }
      ]
    },
    {
      "cell_type": "code",
      "source": [
        "!pip install splam"
      ],
      "metadata": {
        "colab": {
          "base_uri": "https://localhost:8080/"
        },
        "id": "e1o_Wz5V5dV1",
        "outputId": "f0b3a10d-5f4a-4cb6-9ed7-dd075338a96a"
      },
      "execution_count": null,
      "outputs": [
        {
          "output_type": "stream",
          "name": "stdout",
          "text": [
            "Collecting splam\n",
            "  Downloading splam-0.2.15.tar.gz (40.6 MB)\n",
            "\u001b[2K     \u001b[90m━━━━━━━━━━━━━━━━━━━━━━━━━━━━━━━━━━━━━━━━\u001b[0m \u001b[32m40.6/40.6 MB\u001b[0m \u001b[31m9.4 MB/s\u001b[0m eta \u001b[36m0:00:00\u001b[0m\n",
            "\u001b[?25h  Preparing metadata (setup.py) ... \u001b[?25l\u001b[?25hdone\n",
            "Requirement already satisfied: torch>=1.12.0 in /usr/local/lib/python3.10/dist-packages (from splam) (2.0.1+cu118)\n",
            "Collecting pybedtools>=0.9.0 (from splam)\n",
            "  Downloading pybedtools-0.9.0.tar.gz (12.5 MB)\n",
            "\u001b[2K     \u001b[90m━━━━━━━━━━━━━━━━━━━━━━━━━━━━━━━━━━━━━━━━\u001b[0m \u001b[32m12.5/12.5 MB\u001b[0m \u001b[31m69.4 MB/s\u001b[0m eta \u001b[36m0:00:00\u001b[0m\n",
            "\u001b[?25h  Preparing metadata (setup.py) ... \u001b[?25l\u001b[?25hdone\n",
            "Collecting gffutils>=0.10.0 (from splam)\n",
            "  Downloading gffutils-0.11.1.tar.gz (1.6 MB)\n",
            "\u001b[2K     \u001b[90m━━━━━━━━━━━━━━━━━━━━━━━━━━━━━━━━━━━━━━━━\u001b[0m \u001b[32m1.6/1.6 MB\u001b[0m \u001b[31m65.4 MB/s\u001b[0m eta \u001b[36m0:00:00\u001b[0m\n",
            "\u001b[?25h  Preparing metadata (setup.py) ... \u001b[?25l\u001b[?25hdone\n",
            "Collecting pyfaidx>=0.5.5.2 (from gffutils>=0.10.0->splam)\n",
            "  Downloading pyfaidx-0.7.2.1-py3-none-any.whl (28 kB)\n",
            "Requirement already satisfied: six>=1.12.0 in /usr/local/lib/python3.10/dist-packages (from gffutils>=0.10.0->splam) (1.16.0)\n",
            "Collecting argh>=0.26.2 (from gffutils>=0.10.0->splam)\n",
            "  Downloading argh-0.28.1-py3-none-any.whl (40 kB)\n",
            "\u001b[2K     \u001b[90m━━━━━━━━━━━━━━━━━━━━━━━━━━━━━━━━━━━━━━━━\u001b[0m \u001b[32m40.5/40.5 kB\u001b[0m \u001b[31m3.2 MB/s\u001b[0m eta \u001b[36m0:00:00\u001b[0m\n",
            "\u001b[?25hCollecting argcomplete>=1.9.4 (from gffutils>=0.10.0->splam)\n",
            "  Downloading argcomplete-3.1.1-py3-none-any.whl (41 kB)\n",
            "\u001b[2K     \u001b[90m━━━━━━━━━━━━━━━━━━━━━━━━━━━━━━━━━━━━━━━━\u001b[0m \u001b[32m41.5/41.5 kB\u001b[0m \u001b[31m3.7 MB/s\u001b[0m eta \u001b[36m0:00:00\u001b[0m\n",
            "\u001b[?25hCollecting simplejson (from gffutils>=0.10.0->splam)\n",
            "  Downloading simplejson-3.19.1-cp310-cp310-manylinux_2_5_x86_64.manylinux1_x86_64.manylinux_2_17_x86_64.manylinux2014_x86_64.whl (137 kB)\n",
            "\u001b[2K     \u001b[90m━━━━━━━━━━━━━━━━━━━━━━━━━━━━━━━━━━━━━━\u001b[0m \u001b[32m137.9/137.9 kB\u001b[0m \u001b[31m11.9 MB/s\u001b[0m eta \u001b[36m0:00:00\u001b[0m\n",
            "\u001b[?25hCollecting pysam (from pybedtools>=0.9.0->splam)\n",
            "  Downloading pysam-0.21.0-cp310-cp310-manylinux_2_24_x86_64.whl (20.0 MB)\n",
            "\u001b[2K     \u001b[90m━━━━━━━━━━━━━━━━━━━━━━━━━━━━━━━━━━━━━━━━\u001b[0m \u001b[32m20.0/20.0 MB\u001b[0m \u001b[31m12.9 MB/s\u001b[0m eta \u001b[36m0:00:00\u001b[0m\n",
            "\u001b[?25hRequirement already satisfied: filelock in /usr/local/lib/python3.10/dist-packages (from torch>=1.12.0->splam) (3.12.2)\n",
            "Requirement already satisfied: typing-extensions in /usr/local/lib/python3.10/dist-packages (from torch>=1.12.0->splam) (4.6.3)\n",
            "Requirement already satisfied: sympy in /usr/local/lib/python3.10/dist-packages (from torch>=1.12.0->splam) (1.11.1)\n",
            "Requirement already satisfied: networkx in /usr/local/lib/python3.10/dist-packages (from torch>=1.12.0->splam) (3.1)\n",
            "Requirement already satisfied: jinja2 in /usr/local/lib/python3.10/dist-packages (from torch>=1.12.0->splam) (3.1.2)\n",
            "Requirement already satisfied: triton==2.0.0 in /usr/local/lib/python3.10/dist-packages (from torch>=1.12.0->splam) (2.0.0)\n",
            "Requirement already satisfied: cmake in /usr/local/lib/python3.10/dist-packages (from triton==2.0.0->torch>=1.12.0->splam) (3.25.2)\n",
            "Requirement already satisfied: lit in /usr/local/lib/python3.10/dist-packages (from triton==2.0.0->torch>=1.12.0->splam) (16.0.6)\n",
            "Requirement already satisfied: setuptools in /usr/local/lib/python3.10/dist-packages (from pyfaidx>=0.5.5.2->gffutils>=0.10.0->splam) (67.7.2)\n",
            "Requirement already satisfied: MarkupSafe>=2.0 in /usr/local/lib/python3.10/dist-packages (from jinja2->torch>=1.12.0->splam) (2.1.3)\n",
            "Requirement already satisfied: cython in /usr/local/lib/python3.10/dist-packages (from pysam->pybedtools>=0.9.0->splam) (0.29.35)\n",
            "Requirement already satisfied: mpmath>=0.19 in /usr/local/lib/python3.10/dist-packages (from sympy->torch>=1.12.0->splam) (1.3.0)\n",
            "Building wheels for collected packages: splam, gffutils, pybedtools\n",
            "  Building wheel for splam (setup.py) ... \u001b[?25l\u001b[?25hdone\n",
            "  Created wheel for splam: filename=splam-0.2.15-cp310-cp310-linux_x86_64.whl size=1056228 sha256=457ca5efae0b890ff3b89053e9cbbe690bb4227ce1c97d1e1caf48e91d7430d9\n",
            "  Stored in directory: /root/.cache/pip/wheels/c9/bf/68/fb52af24dedffe89d0d74965da80f3b03dd74184f8fd5d2150\n",
            "  Building wheel for gffutils (setup.py) ... \u001b[?25l\u001b[?25hdone\n",
            "  Created wheel for gffutils: filename=gffutils-0.11.1-py3-none-any.whl size=1619346 sha256=81d6b7245f4accb9622df860a814fdc47e5ebe33d6f486b423bcf399f114bc57\n",
            "  Stored in directory: /root/.cache/pip/wheels/06/01/2f/ecea8040fe2e2e905351b8027efcca436e23962624e20ed8c3\n",
            "  Building wheel for pybedtools (setup.py) ... \u001b[?25l\u001b[?25hdone\n",
            "  Created wheel for pybedtools: filename=pybedtools-0.9.0-cp310-cp310-linux_x86_64.whl size=14248394 sha256=c79a9577ae72d0d5ab24f75b52ea35b27fc37e15d810af855be280d41dec2290\n",
            "  Stored in directory: /root/.cache/pip/wheels/50/a7/83/8f6b841c60977cbd76f54f30f5b9e11159150d73a0a8fa42ff\n",
            "Successfully built splam gffutils pybedtools\n",
            "Installing collected packages: simplejson, pysam, pyfaidx, argh, argcomplete, pybedtools, gffutils, splam\n",
            "Successfully installed argcomplete-3.1.1 argh-0.28.1 gffutils-0.11.1 pybedtools-0.9.0 pyfaidx-0.7.2.1 pysam-0.21.0 simplejson-3.19.1 splam-0.2.15\n"
          ]
        }
      ]
    },
    {
      "cell_type": "code",
      "source": [
        "!splam"
      ],
      "metadata": {
        "id": "ApPE9y_h5ib9",
        "colab": {
          "base_uri": "https://localhost:8080/"
        },
        "outputId": "0623437b-b975-40d0-999e-253a7a620c73"
      },
      "execution_count": null,
      "outputs": [
        {
          "output_type": "stream",
          "name": "stdout",
          "text": [
            "====================================================================\n",
            "An accurate spliced alignment pruner and spliced junction predictor.\n",
            "====================================================================\n",
            "\n",
            "\n",
            "  ███████╗██████╗ ██╗      █████╗ ███╗   ███╗\n",
            "  ██╔════╝██╔══██╗██║     ██╔══██╗████╗ ████║\n",
            "  ███████╗██████╔╝██║     ███████║██╔████╔██║\n",
            "  ╚════██║██╔═══╝ ██║     ██╔══██║██║╚██╔╝██║\n",
            "  ███████║██║     ███████╗██║  ██║██║ ╚═╝ ██║\n",
            "  ╚══════╝╚═╝     ╚══════╝╚═╝  ╚═╝╚═╝     ╚═╝\n",
            "    \n",
            "usage: splam\n",
            "       [-h]\n",
            "       [-v]\n",
            "       [-c]\n",
            "       {extract,score,clean}\n",
            "       ...\n",
            "\n",
            "\u001b[1;37mspli\n",
            "ce junction\n",
            "predictor\n",
            "to improve\n",
            "alignment\n",
            "files (BAM\n",
            "/\n",
            "CRAM)\u001b[0;0m\n",
            "\n",
            "options:\n",
            "  -h, --help\n",
            "    show this\n",
            "    help\n",
            "    message and\n",
            "    exit\n",
            "  -v, --version\n",
            "  -c, --citation\n",
            "\n",
            "Commands:\n",
            "  {extract,score,clean}\n",
            "    extract\n",
            "    Extracting\n",
            "    all splice\n",
            "    junctions\n",
            "    from an\n",
            "    alignment\n",
            "    or\n",
            "    annotation\n",
            "    file\n",
            "    score\n",
            "    Scoring all\n",
            "    splice\n",
            "    junctions\n",
            "    clean\n",
            "    Cleaning up\n",
            "    spurious\n",
            "    splice\n",
            "    alignment\n"
          ]
        }
      ]
    },
    {
      "cell_type": "code",
      "source": [
        "!pip install progress"
      ],
      "metadata": {
        "colab": {
          "base_uri": "https://localhost:8080/"
        },
        "id": "gmzEBWbTC7Tx",
        "outputId": "f490f1c1-d187-4e32-adda-bf33012b56c0"
      },
      "execution_count": null,
      "outputs": [
        {
          "output_type": "stream",
          "name": "stdout",
          "text": [
            "Collecting progress\n",
            "  Downloading progress-1.6.tar.gz (7.8 kB)\n",
            "  Preparing metadata (setup.py) ... \u001b[?25l\u001b[?25hdone\n",
            "Building wheels for collected packages: progress\n",
            "  Building wheel for progress (setup.py) ... \u001b[?25l\u001b[?25hdone\n",
            "  Created wheel for progress: filename=progress-1.6-py3-none-any.whl size=9611 sha256=4c1fefb27b42454deaa5629b632aef1b24427e20168287ce24d014a2e6c2113b\n",
            "  Stored in directory: /root/.cache/pip/wheels/a2/68/5f/c339b20a41659d856c93ccdce6a33095493eb82c3964aac5a1\n",
            "Successfully built progress\n",
            "Installing collected packages: progress\n",
            "Successfully installed progress-1.6\n"
          ]
        }
      ]
    },
    {
      "cell_type": "code",
      "source": [
        "!splam extract"
      ],
      "metadata": {
        "colab": {
          "base_uri": "https://localhost:8080/"
        },
        "id": "6ZwLkayAC_ZU",
        "outputId": "cddc3d74-af81-48a6-f1e4-7e9cb9bd137a"
      },
      "execution_count": null,
      "outputs": [
        {
          "output_type": "stream",
          "name": "stdout",
          "text": [
            "====================================================================\n",
            "An accurate spliced alignment pruner and spliced junction predictor.\n",
            "====================================================================\n",
            "\n",
            "\n",
            "  ███████╗██████╗ ██╗      █████╗ ███╗   ███╗\n",
            "  ██╔════╝██╔══██╗██║     ██╔══██╗████╗ ████║\n",
            "  ███████╗██████╔╝██║     ███████║██╔████╔██║\n",
            "  ╚════██║██╔═══╝ ██║     ██╔══██║██║╚██╔╝██║\n",
            "  ███████║██║     ███████╗██║  ██║██║ ╚═╝ ██║\n",
            "  ╚══════╝╚═╝     ╚══════╝╚═╝  ╚═╝╚═╝     ╚═╝\n",
            "    \n",
            "usage: splam extract\n",
            "       [-h]\n",
            "       [-V]\n",
            "       [-P]\n",
            "       [-n]\n",
            "       [-f FILE_FORMAT]\n",
            "       [-o DIR]\n",
            "       [-M DIST]\n",
            "       [-g GAP]\n",
            "       INPUT\n",
            "\n",
            "positional arguments:\n",
            "  INPUT\n",
            "    target\n",
            "    alignment\n",
            "    file in BAM\n",
            "    format or\n",
            "    annotation\n",
            "    file in GFF\n",
            "    format.\n",
            "\n",
            "options:\n",
            "  -h, --help\n",
            "    show this\n",
            "    help\n",
            "    message and\n",
            "    exit\n",
            "  -V, --verbose\n",
            "    running\n",
            "    splam in\n",
            "    verbose\n",
            "    mode.\n",
            "  -P, --paired\n",
            "    bundling\n",
            "    alignments\n",
            "    in \"paired-\n",
            "    end\" mode.\n",
            "  -n, --write-junctions-only\n",
            "    writing out\n",
            "    splice\n",
            "    junction\n",
            "    bed file\n",
            "    only\n",
            "    without\n",
            "    other\n",
            "    temporary\n",
            "    files.\n",
            "  -f FILE_FORMAT, --file-format FILE_FORMAT\n",
            "    the file\n",
            "    type for\n",
            "    SPLAM to\n",
            "    process. It\n",
            "    can only be\n",
            "    \"BAM\",\n",
            "    \"GFF\", or\n",
            "    \"GTF\". The\n",
            "    default\n",
            "    value is\n",
            "    \"BAM\".\n",
            "  -o DIR, --outdir DIR\n",
            "    the\n",
            "    directory\n",
            "    where the\n",
            "    output file\n",
            "    is written\n",
            "    to. Default\n",
            "    output\n",
            "    filename is\n",
            "    \"junction_s\n",
            "    core.bed\"\n",
            "  -M DIST, --max-splice DIST\n",
            "    maximum\n",
            "    splice\n",
            "    junction\n",
            "    length\n",
            "  -g GAP, --bundle-gap GAP\n",
            "    minimum gap\n",
            "    between\n",
            "    bundles\n"
          ]
        }
      ]
    },
    {
      "cell_type": "code",
      "source": [],
      "metadata": {
        "id": "UZ19IMzADIno"
      },
      "execution_count": null,
      "outputs": []
    }
  ]
}