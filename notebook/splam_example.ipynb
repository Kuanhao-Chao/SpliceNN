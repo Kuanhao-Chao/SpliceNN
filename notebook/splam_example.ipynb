{
  "cells": [
    {
      "cell_type": "markdown",
      "metadata": {
        "id": "view-in-github",
        "colab_type": "text"
      },
      "source": [
        "<a href=\"https://colab.research.google.com/github/Kuanhao-Chao/splam/blob/main/notebook/splam_example.ipynb\" target=\"_parent\"><img src=\"https://colab.research.google.com/assets/colab-badge.svg\" alt=\"Open In Colab\"/></a>"
      ]
    },
    {
      "cell_type": "markdown",
      "metadata": {
        "id": "QM8Yc18e3jD8"
      },
      "source": [
        "# Running splam on Google Colab"
      ]
    },
    {
      "cell_type": "markdown",
      "metadata": {
        "id": "fkwRpjgD343a"
      },
      "source": [
        "## Setup"
      ]
    },
    {
      "cell_type": "markdown",
      "metadata": {
        "id": "72YBnvr3HFXG"
      },
      "source": [
        "### Install dependencies"
      ]
    },
    {
      "cell_type": "code",
      "execution_count": 1,
      "metadata": {
        "colab": {
          "base_uri": "https://localhost:8080/"
        },
        "id": "sov0G5W634Dw",
        "outputId": "4cd80474-ea11-4bcf-a97a-555aa0a0a499"
      },
      "outputs": [
        {
          "output_type": "stream",
          "name": "stdout",
          "text": [
            "Requirement already satisfied: torch in /usr/local/lib/python3.10/dist-packages (2.0.1+cu118)\n",
            "Requirement already satisfied: filelock in /usr/local/lib/python3.10/dist-packages (from torch) (3.12.2)\n",
            "Requirement already satisfied: typing-extensions in /usr/local/lib/python3.10/dist-packages (from torch) (4.7.1)\n",
            "Requirement already satisfied: sympy in /usr/local/lib/python3.10/dist-packages (from torch) (1.11.1)\n",
            "Requirement already satisfied: networkx in /usr/local/lib/python3.10/dist-packages (from torch) (3.1)\n",
            "Requirement already satisfied: jinja2 in /usr/local/lib/python3.10/dist-packages (from torch) (3.1.2)\n",
            "Requirement already satisfied: triton==2.0.0 in /usr/local/lib/python3.10/dist-packages (from torch) (2.0.0)\n",
            "Requirement already satisfied: cmake in /usr/local/lib/python3.10/dist-packages (from triton==2.0.0->torch) (3.25.2)\n",
            "Requirement already satisfied: lit in /usr/local/lib/python3.10/dist-packages (from triton==2.0.0->torch) (16.0.6)\n",
            "Requirement already satisfied: MarkupSafe>=2.0 in /usr/local/lib/python3.10/dist-packages (from jinja2->torch) (2.1.3)\n",
            "Requirement already satisfied: mpmath>=0.19 in /usr/local/lib/python3.10/dist-packages (from sympy->torch) (1.3.0)\n"
          ]
        }
      ],
      "source": [
        "!pip install torch"
      ]
    },
    {
      "cell_type": "code",
      "execution_count": 2,
      "metadata": {
        "colab": {
          "base_uri": "https://localhost:8080/"
        },
        "id": "e1o_Wz5V5dV1",
        "outputId": "597e3495-60af-4531-a154-69f8eedf4e82"
      },
      "outputs": [
        {
          "output_type": "stream",
          "name": "stdout",
          "text": [
            "Collecting splam\n",
            "  Downloading splam-1.0.0.tar.gz (40.6 MB)\n",
            "\u001b[2K     \u001b[90m━━━━━━━━━━━━━━━━━━━━━━━━━━━━━━━━━━━━━━━━\u001b[0m \u001b[32m40.6/40.6 MB\u001b[0m \u001b[31m24.1 MB/s\u001b[0m eta \u001b[36m0:00:00\u001b[0m\n",
            "\u001b[?25h  Preparing metadata (setup.py) ... \u001b[?25l\u001b[?25hdone\n",
            "Requirement already satisfied: torch>=1.12.0 in /usr/local/lib/python3.10/dist-packages (from splam) (2.0.1+cu118)\n",
            "Collecting pybedtools>=0.9.0 (from splam)\n",
            "  Downloading pybedtools-0.9.0.tar.gz (12.5 MB)\n",
            "\u001b[2K     \u001b[90m━━━━━━━━━━━━━━━━━━━━━━━━━━━━━━━━━━━━━━━━\u001b[0m \u001b[32m12.5/12.5 MB\u001b[0m \u001b[31m31.1 MB/s\u001b[0m eta \u001b[36m0:00:00\u001b[0m\n",
            "\u001b[?25h  Preparing metadata (setup.py) ... \u001b[?25l\u001b[?25hdone\n",
            "Collecting gffutils>=0.10.0 (from splam)\n",
            "  Downloading gffutils-0.12-py3-none-any.whl (1.6 MB)\n",
            "\u001b[2K     \u001b[90m━━━━━━━━━━━━━━━━━━━━━━━━━━━━━━━━━━━━━━━━\u001b[0m \u001b[32m1.6/1.6 MB\u001b[0m \u001b[31m48.9 MB/s\u001b[0m eta \u001b[36m0:00:00\u001b[0m\n",
            "\u001b[?25hCollecting progress>=1.0 (from splam)\n",
            "  Downloading progress-1.6.tar.gz (7.8 kB)\n",
            "  Preparing metadata (setup.py) ... \u001b[?25l\u001b[?25hdone\n",
            "Collecting pyfaidx>=0.5.5.2 (from gffutils>=0.10.0->splam)\n",
            "  Downloading pyfaidx-0.7.2.1-py3-none-any.whl (28 kB)\n",
            "Requirement already satisfied: six>=1.12.0 in /usr/local/lib/python3.10/dist-packages (from gffutils>=0.10.0->splam) (1.16.0)\n",
            "Collecting argh>=0.26.2 (from gffutils>=0.10.0->splam)\n",
            "  Downloading argh-0.28.1-py3-none-any.whl (40 kB)\n",
            "\u001b[2K     \u001b[90m━━━━━━━━━━━━━━━━━━━━━━━━━━━━━━━━━━━━━━━━\u001b[0m \u001b[32m40.5/40.5 kB\u001b[0m \u001b[31m4.2 MB/s\u001b[0m eta \u001b[36m0:00:00\u001b[0m\n",
            "\u001b[?25hCollecting argcomplete>=1.9.4 (from gffutils>=0.10.0->splam)\n",
            "  Downloading argcomplete-3.1.1-py3-none-any.whl (41 kB)\n",
            "\u001b[2K     \u001b[90m━━━━━━━━━━━━━━━━━━━━━━━━━━━━━━━━━━━━━━━━\u001b[0m \u001b[32m41.5/41.5 kB\u001b[0m \u001b[31m3.1 MB/s\u001b[0m eta \u001b[36m0:00:00\u001b[0m\n",
            "\u001b[?25hCollecting simplejson (from gffutils>=0.10.0->splam)\n",
            "  Downloading simplejson-3.19.1-cp310-cp310-manylinux_2_5_x86_64.manylinux1_x86_64.manylinux_2_17_x86_64.manylinux2014_x86_64.whl (137 kB)\n",
            "\u001b[2K     \u001b[90m━━━━━━━━━━━━━━━━━━━━━━━━━━━━━━━━━━━━━━\u001b[0m \u001b[32m137.9/137.9 kB\u001b[0m \u001b[31m13.2 MB/s\u001b[0m eta \u001b[36m0:00:00\u001b[0m\n",
            "\u001b[?25hCollecting pysam (from pybedtools>=0.9.0->splam)\n",
            "  Downloading pysam-0.21.0-cp310-cp310-manylinux_2_24_x86_64.whl (20.0 MB)\n",
            "\u001b[2K     \u001b[90m━━━━━━━━━━━━━━━━━━━━━━━━━━━━━━━━━━━━━━━━\u001b[0m \u001b[32m20.0/20.0 MB\u001b[0m \u001b[31m47.5 MB/s\u001b[0m eta \u001b[36m0:00:00\u001b[0m\n",
            "\u001b[?25hRequirement already satisfied: filelock in /usr/local/lib/python3.10/dist-packages (from torch>=1.12.0->splam) (3.12.2)\n",
            "Requirement already satisfied: typing-extensions in /usr/local/lib/python3.10/dist-packages (from torch>=1.12.0->splam) (4.7.1)\n",
            "Requirement already satisfied: sympy in /usr/local/lib/python3.10/dist-packages (from torch>=1.12.0->splam) (1.11.1)\n",
            "Requirement already satisfied: networkx in /usr/local/lib/python3.10/dist-packages (from torch>=1.12.0->splam) (3.1)\n",
            "Requirement already satisfied: jinja2 in /usr/local/lib/python3.10/dist-packages (from torch>=1.12.0->splam) (3.1.2)\n",
            "Requirement already satisfied: triton==2.0.0 in /usr/local/lib/python3.10/dist-packages (from torch>=1.12.0->splam) (2.0.0)\n",
            "Requirement already satisfied: cmake in /usr/local/lib/python3.10/dist-packages (from triton==2.0.0->torch>=1.12.0->splam) (3.25.2)\n",
            "Requirement already satisfied: lit in /usr/local/lib/python3.10/dist-packages (from triton==2.0.0->torch>=1.12.0->splam) (16.0.6)\n",
            "Requirement already satisfied: setuptools in /usr/local/lib/python3.10/dist-packages (from pyfaidx>=0.5.5.2->gffutils>=0.10.0->splam) (67.7.2)\n",
            "Requirement already satisfied: MarkupSafe>=2.0 in /usr/local/lib/python3.10/dist-packages (from jinja2->torch>=1.12.0->splam) (2.1.3)\n",
            "Requirement already satisfied: cython in /usr/local/lib/python3.10/dist-packages (from pysam->pybedtools>=0.9.0->splam) (0.29.36)\n",
            "Requirement already satisfied: mpmath>=0.19 in /usr/local/lib/python3.10/dist-packages (from sympy->torch>=1.12.0->splam) (1.3.0)\n",
            "Building wheels for collected packages: splam, progress, pybedtools\n",
            "  Building wheel for splam (setup.py) ... \u001b[?25l\u001b[?25hdone\n",
            "  Created wheel for splam: filename=splam-1.0.0-cp310-cp310-linux_x86_64.whl size=1061909 sha256=1fcf88ba6c3bb967856edd11fa171207ac0c03c5b170bec3b8426af1dca09ac8\n",
            "  Stored in directory: /root/.cache/pip/wheels/42/0f/8c/36a5992c85c65d404880116eed9589669819b25db88c1e6654\n",
            "  Building wheel for progress (setup.py) ... \u001b[?25l\u001b[?25hdone\n",
            "  Created wheel for progress: filename=progress-1.6-py3-none-any.whl size=9611 sha256=a8ad157322d0bc77f345416f8c02cb182914cd30ded2fdef842e856afa6ab5af\n",
            "  Stored in directory: /root/.cache/pip/wheels/a2/68/5f/c339b20a41659d856c93ccdce6a33095493eb82c3964aac5a1\n",
            "  Building wheel for pybedtools (setup.py) ... \u001b[?25l\u001b[?25hdone\n",
            "  Created wheel for pybedtools: filename=pybedtools-0.9.0-cp310-cp310-linux_x86_64.whl size=13990323 sha256=0195e2f635dfe2fc3f5c48c7093020f7c35e5eca9c02d36cdea574a0bdb99d30\n",
            "  Stored in directory: /root/.cache/pip/wheels/50/a7/83/8f6b841c60977cbd76f54f30f5b9e11159150d73a0a8fa42ff\n",
            "Successfully built splam progress pybedtools\n",
            "Installing collected packages: progress, simplejson, pysam, pyfaidx, argh, argcomplete, pybedtools, gffutils, splam\n",
            "Successfully installed argcomplete-3.1.1 argh-0.28.1 gffutils-0.12 progress-1.6 pybedtools-0.9.0 pyfaidx-0.7.2.1 pysam-0.21.0 simplejson-3.19.1 splam-1.0.0\n"
          ]
        }
      ],
      "source": [
        "!pip install splam"
      ]
    },
    {
      "cell_type": "markdown",
      "metadata": {
        "id": "7VV7lX62FhvX"
      },
      "source": [
        "### Checking installed splam version"
      ]
    },
    {
      "cell_type": "code",
      "execution_count": 3,
      "metadata": {
        "colab": {
          "base_uri": "https://localhost:8080/"
        },
        "id": "ApPE9y_h5ib9",
        "outputId": "e463807f-1164-49f9-9ca8-b9c016ad999b"
      },
      "outputs": [
        {
          "output_type": "stream",
          "name": "stdout",
          "text": [
            "====================================================================\n",
            "An accurate spliced alignment pruner and spliced junction predictor.\n",
            "====================================================================\n",
            "\n",
            "\n",
            "  ███████╗██████╗ ██╗      █████╗ ███╗   ███╗\n",
            "  ██╔════╝██╔══██╗██║     ██╔══██╗████╗ ████║\n",
            "  ███████╗██████╔╝██║     ███████║██╔████╔██║\n",
            "  ╚════██║██╔═══╝ ██║     ██╔══██║██║╚██╔╝██║\n",
            "  ███████║██║     ███████╗██║  ██║██║ ╚═╝ ██║\n",
            "  ╚══════╝╚═╝     ╚══════╝╚═╝  ╚═╝╚═╝     ╚═╝\n",
            "    \n",
            "v1.0.0\n"
          ]
        }
      ],
      "source": [
        "!splam -v"
      ]
    },
    {
      "cell_type": "markdown",
      "metadata": {
        "id": "hjgoZsVKGRpN"
      },
      "source": [
        "Now splam is installed in colab. **We are good to go!**"
      ]
    },
    {
      "cell_type": "markdown",
      "metadata": {
        "id": "--UmGfpMVn-S"
      },
      "source": [
        "\n",
        "\n",
        "---\n",
        "\n",
        "\n",
        "\n",
        "\n",
        "<br>\n",
        "<br>"
      ]
    },
    {
      "cell_type": "markdown",
      "metadata": {
        "id": "fItcWsFDJ33s"
      },
      "source": [
        "## Upload data"
      ]
    },
    {
      "cell_type": "markdown",
      "metadata": {
        "id": "Y8WZy1iELeFM"
      },
      "source": [
        "### Upload example data for analysis"
      ]
    },
    {
      "cell_type": "markdown",
      "metadata": {
        "id": "FaHO0PkhKF6a"
      },
      "source": [
        "Please first download all the data in the [test/](https://github.com/Kuanhao-Chao/splam/tree/main/test) directory in the splam github repository.\n",
        "\n",
        "**Then** upload all of them using `files.upload()`"
      ]
    },
    {
      "cell_type": "code",
      "execution_count": 4,
      "metadata": {
        "colab": {
          "base_uri": "https://localhost:8080/",
          "height": 250
        },
        "id": "6noGhoAVKaPN",
        "outputId": "06b7410a-4bf0-44a3-e26e-378992ba9e80"
      },
      "outputs": [
        {
          "output_type": "display_data",
          "data": {
            "text/plain": [
              "<IPython.core.display.HTML object>"
            ],
            "text/html": [
              "\n",
              "     <input type=\"file\" id=\"files-3ec1bced-0891-442a-90a0-55d55cebe8ee\" name=\"files[]\" multiple disabled\n",
              "        style=\"border:none\" />\n",
              "     <output id=\"result-3ec1bced-0891-442a-90a0-55d55cebe8ee\">\n",
              "      Upload widget is only available when the cell has been executed in the\n",
              "      current browser session. Please rerun this cell to enable.\n",
              "      </output>\n",
              "      <script>// Copyright 2017 Google LLC\n",
              "//\n",
              "// Licensed under the Apache License, Version 2.0 (the \"License\");\n",
              "// you may not use this file except in compliance with the License.\n",
              "// You may obtain a copy of the License at\n",
              "//\n",
              "//      http://www.apache.org/licenses/LICENSE-2.0\n",
              "//\n",
              "// Unless required by applicable law or agreed to in writing, software\n",
              "// distributed under the License is distributed on an \"AS IS\" BASIS,\n",
              "// WITHOUT WARRANTIES OR CONDITIONS OF ANY KIND, either express or implied.\n",
              "// See the License for the specific language governing permissions and\n",
              "// limitations under the License.\n",
              "\n",
              "/**\n",
              " * @fileoverview Helpers for google.colab Python module.\n",
              " */\n",
              "(function(scope) {\n",
              "function span(text, styleAttributes = {}) {\n",
              "  const element = document.createElement('span');\n",
              "  element.textContent = text;\n",
              "  for (const key of Object.keys(styleAttributes)) {\n",
              "    element.style[key] = styleAttributes[key];\n",
              "  }\n",
              "  return element;\n",
              "}\n",
              "\n",
              "// Max number of bytes which will be uploaded at a time.\n",
              "const MAX_PAYLOAD_SIZE = 100 * 1024;\n",
              "\n",
              "function _uploadFiles(inputId, outputId) {\n",
              "  const steps = uploadFilesStep(inputId, outputId);\n",
              "  const outputElement = document.getElementById(outputId);\n",
              "  // Cache steps on the outputElement to make it available for the next call\n",
              "  // to uploadFilesContinue from Python.\n",
              "  outputElement.steps = steps;\n",
              "\n",
              "  return _uploadFilesContinue(outputId);\n",
              "}\n",
              "\n",
              "// This is roughly an async generator (not supported in the browser yet),\n",
              "// where there are multiple asynchronous steps and the Python side is going\n",
              "// to poll for completion of each step.\n",
              "// This uses a Promise to block the python side on completion of each step,\n",
              "// then passes the result of the previous step as the input to the next step.\n",
              "function _uploadFilesContinue(outputId) {\n",
              "  const outputElement = document.getElementById(outputId);\n",
              "  const steps = outputElement.steps;\n",
              "\n",
              "  const next = steps.next(outputElement.lastPromiseValue);\n",
              "  return Promise.resolve(next.value.promise).then((value) => {\n",
              "    // Cache the last promise value to make it available to the next\n",
              "    // step of the generator.\n",
              "    outputElement.lastPromiseValue = value;\n",
              "    return next.value.response;\n",
              "  });\n",
              "}\n",
              "\n",
              "/**\n",
              " * Generator function which is called between each async step of the upload\n",
              " * process.\n",
              " * @param {string} inputId Element ID of the input file picker element.\n",
              " * @param {string} outputId Element ID of the output display.\n",
              " * @return {!Iterable<!Object>} Iterable of next steps.\n",
              " */\n",
              "function* uploadFilesStep(inputId, outputId) {\n",
              "  const inputElement = document.getElementById(inputId);\n",
              "  inputElement.disabled = false;\n",
              "\n",
              "  const outputElement = document.getElementById(outputId);\n",
              "  outputElement.innerHTML = '';\n",
              "\n",
              "  const pickedPromise = new Promise((resolve) => {\n",
              "    inputElement.addEventListener('change', (e) => {\n",
              "      resolve(e.target.files);\n",
              "    });\n",
              "  });\n",
              "\n",
              "  const cancel = document.createElement('button');\n",
              "  inputElement.parentElement.appendChild(cancel);\n",
              "  cancel.textContent = 'Cancel upload';\n",
              "  const cancelPromise = new Promise((resolve) => {\n",
              "    cancel.onclick = () => {\n",
              "      resolve(null);\n",
              "    };\n",
              "  });\n",
              "\n",
              "  // Wait for the user to pick the files.\n",
              "  const files = yield {\n",
              "    promise: Promise.race([pickedPromise, cancelPromise]),\n",
              "    response: {\n",
              "      action: 'starting',\n",
              "    }\n",
              "  };\n",
              "\n",
              "  cancel.remove();\n",
              "\n",
              "  // Disable the input element since further picks are not allowed.\n",
              "  inputElement.disabled = true;\n",
              "\n",
              "  if (!files) {\n",
              "    return {\n",
              "      response: {\n",
              "        action: 'complete',\n",
              "      }\n",
              "    };\n",
              "  }\n",
              "\n",
              "  for (const file of files) {\n",
              "    const li = document.createElement('li');\n",
              "    li.append(span(file.name, {fontWeight: 'bold'}));\n",
              "    li.append(span(\n",
              "        `(${file.type || 'n/a'}) - ${file.size} bytes, ` +\n",
              "        `last modified: ${\n",
              "            file.lastModifiedDate ? file.lastModifiedDate.toLocaleDateString() :\n",
              "                                    'n/a'} - `));\n",
              "    const percent = span('0% done');\n",
              "    li.appendChild(percent);\n",
              "\n",
              "    outputElement.appendChild(li);\n",
              "\n",
              "    const fileDataPromise = new Promise((resolve) => {\n",
              "      const reader = new FileReader();\n",
              "      reader.onload = (e) => {\n",
              "        resolve(e.target.result);\n",
              "      };\n",
              "      reader.readAsArrayBuffer(file);\n",
              "    });\n",
              "    // Wait for the data to be ready.\n",
              "    let fileData = yield {\n",
              "      promise: fileDataPromise,\n",
              "      response: {\n",
              "        action: 'continue',\n",
              "      }\n",
              "    };\n",
              "\n",
              "    // Use a chunked sending to avoid message size limits. See b/62115660.\n",
              "    let position = 0;\n",
              "    do {\n",
              "      const length = Math.min(fileData.byteLength - position, MAX_PAYLOAD_SIZE);\n",
              "      const chunk = new Uint8Array(fileData, position, length);\n",
              "      position += length;\n",
              "\n",
              "      const base64 = btoa(String.fromCharCode.apply(null, chunk));\n",
              "      yield {\n",
              "        response: {\n",
              "          action: 'append',\n",
              "          file: file.name,\n",
              "          data: base64,\n",
              "        },\n",
              "      };\n",
              "\n",
              "      let percentDone = fileData.byteLength === 0 ?\n",
              "          100 :\n",
              "          Math.round((position / fileData.byteLength) * 100);\n",
              "      percent.textContent = `${percentDone}% done`;\n",
              "\n",
              "    } while (position < fileData.byteLength);\n",
              "  }\n",
              "\n",
              "  // All done.\n",
              "  yield {\n",
              "    response: {\n",
              "      action: 'complete',\n",
              "    }\n",
              "  };\n",
              "}\n",
              "\n",
              "scope.google = scope.google || {};\n",
              "scope.google.colab = scope.google.colab || {};\n",
              "scope.google.colab._files = {\n",
              "  _uploadFiles,\n",
              "  _uploadFilesContinue,\n",
              "};\n",
              "})(self);\n",
              "</script> "
            ]
          },
          "metadata": {}
        },
        {
          "output_type": "stream",
          "name": "stdout",
          "text": [
            "Saving refseq_40_GRCh38.p14_chr_fixed.gff to refseq_40_GRCh38.p14_chr_fixed.gff\n",
            "Saving chr9_subset.fa to chr9_subset.fa\n",
            "Saving chr9_subset.fa.fai to chr9_subset.fa.fai\n",
            "Saving MANE.GRCh38.v1.1.subset.gff to MANE.GRCh38.v1.1.subset.gff\n",
            "Saving SRR1352129_chr9_sub.bam to SRR1352129_chr9_sub.bam\n",
            "Saving SRR1352129_chr9_sub.bam.bai to SRR1352129_chr9_sub.bam.bai\n"
          ]
        }
      ],
      "source": [
        "from google.colab import files\n",
        "uploaded = files.upload()"
      ]
    },
    {
      "cell_type": "markdown",
      "metadata": {
        "id": "k2anJtxULo-1"
      },
      "source": [
        "### Upload splam model"
      ]
    },
    {
      "cell_type": "markdown",
      "metadata": {
        "id": "mhtLDATpLuJU"
      },
      "source": [
        "Please download the [splam model](https://github.com/Kuanhao-Chao/splam/blob/main/model/splam_script.pt) from the splam github repository and upload it to colab.\n"
      ]
    },
    {
      "cell_type": "code",
      "execution_count": 5,
      "metadata": {
        "colab": {
          "base_uri": "https://localhost:8080/",
          "height": 74
        },
        "id": "3CGeEcy-L92a",
        "outputId": "008fd291-0427-47f6-ed21-1c592d4f9d16"
      },
      "outputs": [
        {
          "output_type": "display_data",
          "data": {
            "text/plain": [
              "<IPython.core.display.HTML object>"
            ],
            "text/html": [
              "\n",
              "     <input type=\"file\" id=\"files-ba8e3121-f12b-4983-a41f-744950dc149e\" name=\"files[]\" multiple disabled\n",
              "        style=\"border:none\" />\n",
              "     <output id=\"result-ba8e3121-f12b-4983-a41f-744950dc149e\">\n",
              "      Upload widget is only available when the cell has been executed in the\n",
              "      current browser session. Please rerun this cell to enable.\n",
              "      </output>\n",
              "      <script>// Copyright 2017 Google LLC\n",
              "//\n",
              "// Licensed under the Apache License, Version 2.0 (the \"License\");\n",
              "// you may not use this file except in compliance with the License.\n",
              "// You may obtain a copy of the License at\n",
              "//\n",
              "//      http://www.apache.org/licenses/LICENSE-2.0\n",
              "//\n",
              "// Unless required by applicable law or agreed to in writing, software\n",
              "// distributed under the License is distributed on an \"AS IS\" BASIS,\n",
              "// WITHOUT WARRANTIES OR CONDITIONS OF ANY KIND, either express or implied.\n",
              "// See the License for the specific language governing permissions and\n",
              "// limitations under the License.\n",
              "\n",
              "/**\n",
              " * @fileoverview Helpers for google.colab Python module.\n",
              " */\n",
              "(function(scope) {\n",
              "function span(text, styleAttributes = {}) {\n",
              "  const element = document.createElement('span');\n",
              "  element.textContent = text;\n",
              "  for (const key of Object.keys(styleAttributes)) {\n",
              "    element.style[key] = styleAttributes[key];\n",
              "  }\n",
              "  return element;\n",
              "}\n",
              "\n",
              "// Max number of bytes which will be uploaded at a time.\n",
              "const MAX_PAYLOAD_SIZE = 100 * 1024;\n",
              "\n",
              "function _uploadFiles(inputId, outputId) {\n",
              "  const steps = uploadFilesStep(inputId, outputId);\n",
              "  const outputElement = document.getElementById(outputId);\n",
              "  // Cache steps on the outputElement to make it available for the next call\n",
              "  // to uploadFilesContinue from Python.\n",
              "  outputElement.steps = steps;\n",
              "\n",
              "  return _uploadFilesContinue(outputId);\n",
              "}\n",
              "\n",
              "// This is roughly an async generator (not supported in the browser yet),\n",
              "// where there are multiple asynchronous steps and the Python side is going\n",
              "// to poll for completion of each step.\n",
              "// This uses a Promise to block the python side on completion of each step,\n",
              "// then passes the result of the previous step as the input to the next step.\n",
              "function _uploadFilesContinue(outputId) {\n",
              "  const outputElement = document.getElementById(outputId);\n",
              "  const steps = outputElement.steps;\n",
              "\n",
              "  const next = steps.next(outputElement.lastPromiseValue);\n",
              "  return Promise.resolve(next.value.promise).then((value) => {\n",
              "    // Cache the last promise value to make it available to the next\n",
              "    // step of the generator.\n",
              "    outputElement.lastPromiseValue = value;\n",
              "    return next.value.response;\n",
              "  });\n",
              "}\n",
              "\n",
              "/**\n",
              " * Generator function which is called between each async step of the upload\n",
              " * process.\n",
              " * @param {string} inputId Element ID of the input file picker element.\n",
              " * @param {string} outputId Element ID of the output display.\n",
              " * @return {!Iterable<!Object>} Iterable of next steps.\n",
              " */\n",
              "function* uploadFilesStep(inputId, outputId) {\n",
              "  const inputElement = document.getElementById(inputId);\n",
              "  inputElement.disabled = false;\n",
              "\n",
              "  const outputElement = document.getElementById(outputId);\n",
              "  outputElement.innerHTML = '';\n",
              "\n",
              "  const pickedPromise = new Promise((resolve) => {\n",
              "    inputElement.addEventListener('change', (e) => {\n",
              "      resolve(e.target.files);\n",
              "    });\n",
              "  });\n",
              "\n",
              "  const cancel = document.createElement('button');\n",
              "  inputElement.parentElement.appendChild(cancel);\n",
              "  cancel.textContent = 'Cancel upload';\n",
              "  const cancelPromise = new Promise((resolve) => {\n",
              "    cancel.onclick = () => {\n",
              "      resolve(null);\n",
              "    };\n",
              "  });\n",
              "\n",
              "  // Wait for the user to pick the files.\n",
              "  const files = yield {\n",
              "    promise: Promise.race([pickedPromise, cancelPromise]),\n",
              "    response: {\n",
              "      action: 'starting',\n",
              "    }\n",
              "  };\n",
              "\n",
              "  cancel.remove();\n",
              "\n",
              "  // Disable the input element since further picks are not allowed.\n",
              "  inputElement.disabled = true;\n",
              "\n",
              "  if (!files) {\n",
              "    return {\n",
              "      response: {\n",
              "        action: 'complete',\n",
              "      }\n",
              "    };\n",
              "  }\n",
              "\n",
              "  for (const file of files) {\n",
              "    const li = document.createElement('li');\n",
              "    li.append(span(file.name, {fontWeight: 'bold'}));\n",
              "    li.append(span(\n",
              "        `(${file.type || 'n/a'}) - ${file.size} bytes, ` +\n",
              "        `last modified: ${\n",
              "            file.lastModifiedDate ? file.lastModifiedDate.toLocaleDateString() :\n",
              "                                    'n/a'} - `));\n",
              "    const percent = span('0% done');\n",
              "    li.appendChild(percent);\n",
              "\n",
              "    outputElement.appendChild(li);\n",
              "\n",
              "    const fileDataPromise = new Promise((resolve) => {\n",
              "      const reader = new FileReader();\n",
              "      reader.onload = (e) => {\n",
              "        resolve(e.target.result);\n",
              "      };\n",
              "      reader.readAsArrayBuffer(file);\n",
              "    });\n",
              "    // Wait for the data to be ready.\n",
              "    let fileData = yield {\n",
              "      promise: fileDataPromise,\n",
              "      response: {\n",
              "        action: 'continue',\n",
              "      }\n",
              "    };\n",
              "\n",
              "    // Use a chunked sending to avoid message size limits. See b/62115660.\n",
              "    let position = 0;\n",
              "    do {\n",
              "      const length = Math.min(fileData.byteLength - position, MAX_PAYLOAD_SIZE);\n",
              "      const chunk = new Uint8Array(fileData, position, length);\n",
              "      position += length;\n",
              "\n",
              "      const base64 = btoa(String.fromCharCode.apply(null, chunk));\n",
              "      yield {\n",
              "        response: {\n",
              "          action: 'append',\n",
              "          file: file.name,\n",
              "          data: base64,\n",
              "        },\n",
              "      };\n",
              "\n",
              "      let percentDone = fileData.byteLength === 0 ?\n",
              "          100 :\n",
              "          Math.round((position / fileData.byteLength) * 100);\n",
              "      percent.textContent = `${percentDone}% done`;\n",
              "\n",
              "    } while (position < fileData.byteLength);\n",
              "  }\n",
              "\n",
              "  // All done.\n",
              "  yield {\n",
              "    response: {\n",
              "      action: 'complete',\n",
              "    }\n",
              "  };\n",
              "}\n",
              "\n",
              "scope.google = scope.google || {};\n",
              "scope.google.colab = scope.google.colab || {};\n",
              "scope.google.colab._files = {\n",
              "  _uploadFiles,\n",
              "  _uploadFilesContinue,\n",
              "};\n",
              "})(self);\n",
              "</script> "
            ]
          },
          "metadata": {}
        },
        {
          "output_type": "stream",
          "name": "stdout",
          "text": [
            "Saving splam_script.pt to splam_script.pt\n"
          ]
        }
      ],
      "source": [
        "uploaded = files.upload()"
      ]
    },
    {
      "cell_type": "markdown",
      "metadata": {
        "id": "7_b-LujlOkWY"
      },
      "source": [
        "### Upload bedtools library"
      ]
    },
    {
      "cell_type": "markdown",
      "metadata": {
        "id": "mjX8shIQOvA7"
      },
      "source": [
        "Please download the statically-linked bedtools binaries [bedtools.static.binary](https://github.com/arq5x/bedtools2/releases/download/v2.31.0/bedtools.static) from the splam github repository and upload it to colab.\n",
        "\n",
        "Since splam depends on [pybedtools](https://daler.github.io/pybedtools/), and it requires [bedtools](https://bedtools.readthedocs.io/en/latest/index.html) to be installed.\n"
      ]
    },
    {
      "cell_type": "code",
      "execution_count": 7,
      "metadata": {
        "colab": {
          "base_uri": "https://localhost:8080/",
          "height": 74
        },
        "id": "zWVbWxn_OPMt",
        "outputId": "735a5bcf-b47c-4b75-ce1f-a37dadbe65f6"
      },
      "outputs": [
        {
          "output_type": "display_data",
          "data": {
            "text/plain": [
              "<IPython.core.display.HTML object>"
            ],
            "text/html": [
              "\n",
              "     <input type=\"file\" id=\"files-46f36f89-2f07-4fe1-8e6c-a89539b4298a\" name=\"files[]\" multiple disabled\n",
              "        style=\"border:none\" />\n",
              "     <output id=\"result-46f36f89-2f07-4fe1-8e6c-a89539b4298a\">\n",
              "      Upload widget is only available when the cell has been executed in the\n",
              "      current browser session. Please rerun this cell to enable.\n",
              "      </output>\n",
              "      <script>// Copyright 2017 Google LLC\n",
              "//\n",
              "// Licensed under the Apache License, Version 2.0 (the \"License\");\n",
              "// you may not use this file except in compliance with the License.\n",
              "// You may obtain a copy of the License at\n",
              "//\n",
              "//      http://www.apache.org/licenses/LICENSE-2.0\n",
              "//\n",
              "// Unless required by applicable law or agreed to in writing, software\n",
              "// distributed under the License is distributed on an \"AS IS\" BASIS,\n",
              "// WITHOUT WARRANTIES OR CONDITIONS OF ANY KIND, either express or implied.\n",
              "// See the License for the specific language governing permissions and\n",
              "// limitations under the License.\n",
              "\n",
              "/**\n",
              " * @fileoverview Helpers for google.colab Python module.\n",
              " */\n",
              "(function(scope) {\n",
              "function span(text, styleAttributes = {}) {\n",
              "  const element = document.createElement('span');\n",
              "  element.textContent = text;\n",
              "  for (const key of Object.keys(styleAttributes)) {\n",
              "    element.style[key] = styleAttributes[key];\n",
              "  }\n",
              "  return element;\n",
              "}\n",
              "\n",
              "// Max number of bytes which will be uploaded at a time.\n",
              "const MAX_PAYLOAD_SIZE = 100 * 1024;\n",
              "\n",
              "function _uploadFiles(inputId, outputId) {\n",
              "  const steps = uploadFilesStep(inputId, outputId);\n",
              "  const outputElement = document.getElementById(outputId);\n",
              "  // Cache steps on the outputElement to make it available for the next call\n",
              "  // to uploadFilesContinue from Python.\n",
              "  outputElement.steps = steps;\n",
              "\n",
              "  return _uploadFilesContinue(outputId);\n",
              "}\n",
              "\n",
              "// This is roughly an async generator (not supported in the browser yet),\n",
              "// where there are multiple asynchronous steps and the Python side is going\n",
              "// to poll for completion of each step.\n",
              "// This uses a Promise to block the python side on completion of each step,\n",
              "// then passes the result of the previous step as the input to the next step.\n",
              "function _uploadFilesContinue(outputId) {\n",
              "  const outputElement = document.getElementById(outputId);\n",
              "  const steps = outputElement.steps;\n",
              "\n",
              "  const next = steps.next(outputElement.lastPromiseValue);\n",
              "  return Promise.resolve(next.value.promise).then((value) => {\n",
              "    // Cache the last promise value to make it available to the next\n",
              "    // step of the generator.\n",
              "    outputElement.lastPromiseValue = value;\n",
              "    return next.value.response;\n",
              "  });\n",
              "}\n",
              "\n",
              "/**\n",
              " * Generator function which is called between each async step of the upload\n",
              " * process.\n",
              " * @param {string} inputId Element ID of the input file picker element.\n",
              " * @param {string} outputId Element ID of the output display.\n",
              " * @return {!Iterable<!Object>} Iterable of next steps.\n",
              " */\n",
              "function* uploadFilesStep(inputId, outputId) {\n",
              "  const inputElement = document.getElementById(inputId);\n",
              "  inputElement.disabled = false;\n",
              "\n",
              "  const outputElement = document.getElementById(outputId);\n",
              "  outputElement.innerHTML = '';\n",
              "\n",
              "  const pickedPromise = new Promise((resolve) => {\n",
              "    inputElement.addEventListener('change', (e) => {\n",
              "      resolve(e.target.files);\n",
              "    });\n",
              "  });\n",
              "\n",
              "  const cancel = document.createElement('button');\n",
              "  inputElement.parentElement.appendChild(cancel);\n",
              "  cancel.textContent = 'Cancel upload';\n",
              "  const cancelPromise = new Promise((resolve) => {\n",
              "    cancel.onclick = () => {\n",
              "      resolve(null);\n",
              "    };\n",
              "  });\n",
              "\n",
              "  // Wait for the user to pick the files.\n",
              "  const files = yield {\n",
              "    promise: Promise.race([pickedPromise, cancelPromise]),\n",
              "    response: {\n",
              "      action: 'starting',\n",
              "    }\n",
              "  };\n",
              "\n",
              "  cancel.remove();\n",
              "\n",
              "  // Disable the input element since further picks are not allowed.\n",
              "  inputElement.disabled = true;\n",
              "\n",
              "  if (!files) {\n",
              "    return {\n",
              "      response: {\n",
              "        action: 'complete',\n",
              "      }\n",
              "    };\n",
              "  }\n",
              "\n",
              "  for (const file of files) {\n",
              "    const li = document.createElement('li');\n",
              "    li.append(span(file.name, {fontWeight: 'bold'}));\n",
              "    li.append(span(\n",
              "        `(${file.type || 'n/a'}) - ${file.size} bytes, ` +\n",
              "        `last modified: ${\n",
              "            file.lastModifiedDate ? file.lastModifiedDate.toLocaleDateString() :\n",
              "                                    'n/a'} - `));\n",
              "    const percent = span('0% done');\n",
              "    li.appendChild(percent);\n",
              "\n",
              "    outputElement.appendChild(li);\n",
              "\n",
              "    const fileDataPromise = new Promise((resolve) => {\n",
              "      const reader = new FileReader();\n",
              "      reader.onload = (e) => {\n",
              "        resolve(e.target.result);\n",
              "      };\n",
              "      reader.readAsArrayBuffer(file);\n",
              "    });\n",
              "    // Wait for the data to be ready.\n",
              "    let fileData = yield {\n",
              "      promise: fileDataPromise,\n",
              "      response: {\n",
              "        action: 'continue',\n",
              "      }\n",
              "    };\n",
              "\n",
              "    // Use a chunked sending to avoid message size limits. See b/62115660.\n",
              "    let position = 0;\n",
              "    do {\n",
              "      const length = Math.min(fileData.byteLength - position, MAX_PAYLOAD_SIZE);\n",
              "      const chunk = new Uint8Array(fileData, position, length);\n",
              "      position += length;\n",
              "\n",
              "      const base64 = btoa(String.fromCharCode.apply(null, chunk));\n",
              "      yield {\n",
              "        response: {\n",
              "          action: 'append',\n",
              "          file: file.name,\n",
              "          data: base64,\n",
              "        },\n",
              "      };\n",
              "\n",
              "      let percentDone = fileData.byteLength === 0 ?\n",
              "          100 :\n",
              "          Math.round((position / fileData.byteLength) * 100);\n",
              "      percent.textContent = `${percentDone}% done`;\n",
              "\n",
              "    } while (position < fileData.byteLength);\n",
              "  }\n",
              "\n",
              "  // All done.\n",
              "  yield {\n",
              "    response: {\n",
              "      action: 'complete',\n",
              "    }\n",
              "  };\n",
              "}\n",
              "\n",
              "scope.google = scope.google || {};\n",
              "scope.google.colab = scope.google.colab || {};\n",
              "scope.google.colab._files = {\n",
              "  _uploadFiles,\n",
              "  _uploadFilesContinue,\n",
              "};\n",
              "})(self);\n",
              "</script> "
            ]
          },
          "metadata": {}
        },
        {
          "output_type": "stream",
          "name": "stdout",
          "text": [
            "Saving bedtools.static to bedtools.static\n"
          ]
        }
      ],
      "source": [
        "uploaded = files.upload()"
      ]
    },
    {
      "cell_type": "markdown",
      "metadata": {
        "id": "ItYE_3avQYgi"
      },
      "source": [
        "Now, move the bedtools binary file to a location where splam can locate it."
      ]
    },
    {
      "cell_type": "code",
      "execution_count": 8,
      "metadata": {
        "id": "uFkWxc6bO55X"
      },
      "outputs": [],
      "source": [
        "!mv bedtools.static bedtools\n",
        "!chmod a+x bedtools\n",
        "!cp bedtools /usr/local/bin/bedtools"
      ]
    },
    {
      "cell_type": "markdown",
      "metadata": {
        "id": "kFSx3TwaQ4mh"
      },
      "source": [
        "To ensure that bedtools is installed correctly, check the bedtools version."
      ]
    },
    {
      "cell_type": "code",
      "execution_count": 9,
      "metadata": {
        "colab": {
          "base_uri": "https://localhost:8080/"
        },
        "id": "pOa1P2gjRF4z",
        "outputId": "cfce1056-1fbf-471b-83c1-a101e73bf70f"
      },
      "outputs": [
        {
          "output_type": "stream",
          "name": "stdout",
          "text": [
            "bedtools v2.31.0\n"
          ]
        }
      ],
      "source": [
        "!bedtools --version"
      ]
    },
    {
      "cell_type": "markdown",
      "metadata": {
        "id": "94QZpTu7hTQu"
      },
      "source": [
        "\n",
        "\n",
        "---\n",
        "\n",
        "\n",
        "\n",
        "<br>\n",
        "<br>\n",
        "\n"
      ]
    },
    {
      "cell_type": "markdown",
      "metadata": {
        "id": "bqJEE_zbGqtp"
      },
      "source": [
        "## Remove low confidence spliced alignments"
      ]
    },
    {
      "cell_type": "markdown",
      "metadata": {
        "id": "GexjkYYcRQ1j"
      },
      "source": [
        "### Step 1: Extracting splice junctions in your alignment file"
      ]
    },
    {
      "cell_type": "markdown",
      "metadata": {
        "id": "jWkDVhiQRm3L"
      },
      "source": [
        "In this step, you take a sorted alignment file and run the following command. The primary outputs for this step is a BED file containing the coordinates of each junction and some temporary files.\n",
        "\n",
        "Run with `splam extract`"
      ]
    },
    {
      "cell_type": "code",
      "execution_count": 10,
      "metadata": {
        "colab": {
          "base_uri": "https://localhost:8080/"
        },
        "id": "gcG-sLafH-b1",
        "outputId": "6d009b68-fe1d-42f4-d73c-c9c5081976b5"
      },
      "outputs": [
        {
          "output_type": "stream",
          "name": "stdout",
          "text": [
            "====================================================================\n",
            "An accurate spliced alignment pruner and spliced junction predictor.\n",
            "====================================================================\n",
            "\n",
            "\n",
            "  ███████╗██████╗ ██╗      █████╗ ███╗   ███╗\n",
            "  ██╔════╝██╔══██╗██║     ██╔══██╗████╗ ████║\n",
            "  ███████╗██████╔╝██║     ███████║██╔████╔██║\n",
            "  ╚════██║██╔═══╝ ██║     ██╔══██║██║╚██╔╝██║\n",
            "  ███████║██║     ███████╗██║  ██║██║ ╚═╝ ██║\n",
            "  ╚══════╝╚═╝     ╚══════╝╚═╝  ╚═╝╚═╝     ╚═╝\n",
            "    \n",
            "current boundaries: 11632 - 136007110\n",
            "\t* # alignments processed: 9802!\n",
            "\n",
            "[INFO] Total number of alignments\t:      9802 \n",
            "           paired alignments\t\t:      8728 \n",
            "               spliced alignments\t:      2810 \n",
            "                   - uniquely mapped\t:      1288\n",
            "                   - multi-mapped\t:      1522\n",
            "               non-spliced alignments\t:      5918 \n",
            "                   - uniquely mapped\t:       396\n",
            "                   - multi-mapped\t:      5522\n",
            "\n",
            "           unpaired alignments\t\t:      1074 \n",
            "               spliced alignments\t:       219 \n",
            "                   - uniquely mapped\t:        54\n",
            "                   - multi-mapped\t:       165\n",
            "               non-spliced alignments\t:       855 \n",
            "                   - uniquely mapped\t:        64\n",
            "                   - multi-mapped\t:       791\n",
            "\n",
            "\n",
            "[INFO] Total number of junctions\t:        31\n"
          ]
        }
      ],
      "source": [
        "!splam extract -P -o tmp_out SRR1352129_chr9_sub.bam"
      ]
    },
    {
      "cell_type": "markdown",
      "metadata": {
        "id": "7NfMoC4CRa02"
      },
      "source": [
        "### Step 2: Scoring extracted splice junctions"
      ]
    },
    {
      "cell_type": "markdown",
      "metadata": {
        "id": "_bJ9UPckRz0l"
      },
      "source": [
        "In this step, splam scores all the extracted splice junctions from the previous step.\n",
        "\n",
        "Run with `splam score`"
      ]
    },
    {
      "cell_type": "code",
      "execution_count": 11,
      "metadata": {
        "colab": {
          "base_uri": "https://localhost:8080/"
        },
        "id": "678uREUlJLOt",
        "outputId": "4456737f-78f4-4a6d-c72e-5577d0b4febc"
      },
      "outputs": [
        {
          "output_type": "stream",
          "name": "stdout",
          "text": [
            "====================================================================\n",
            "An accurate spliced alignment pruner and spliced junction predictor.\n",
            "====================================================================\n",
            "\n",
            "\n",
            "  ███████╗██████╗ ██╗      █████╗ ███╗   ███╗\n",
            "  ██╔════╝██╔══██╗██║     ██╔══██╗████╗ ████║\n",
            "  ███████╗██████╔╝██║     ███████║██╔████╔██║\n",
            "  ╚════██║██╔═══╝ ██║     ██╔══██║██║╚██╔╝██║\n",
            "  ███████║██║     ███████╗██║  ██║██║ ╚═╝ ██║\n",
            "  ╚══════╝╚═╝     ╚══════╝╚═╝  ╚═╝╚═╝     ╚═╝\n",
            "    \n",
            "[Info] Chromosomes in the annotation file is in 'chr*' style\n",
            "[Info] Running model in \"cpu\" mode\n",
            "[Info] Loading model ... (splam_script.pt)\n",
            "model = torch.load(model_path)!!\n",
            "[Info] Done loading model\n",
            "[Info] Loading data ...\n",
            "\t 31  junctions loaded.\n",
            "[Info] Done loading data\n",
            "[Info] SPLAM!  |################################| 4/4\n",
            "\u001b[?25h"
          ]
        }
      ],
      "source": [
        "!splam score -G chr9_subset.fa -m splam_script.pt tmp_out/junction.bed"
      ]
    },
    {
      "cell_type": "markdown",
      "metadata": {
        "id": "3u6E2QNtReI2"
      },
      "source": [
        "### Step 3: Cleaning up your alignment file"
      ]
    },
    {
      "cell_type": "markdown",
      "metadata": {
        "id": "uDiR1K7cSagc"
      },
      "source": [
        "The final step of this analysis is to remove alignments with low-quality splice junctions and update 'NH' tag and flags for multi-mapped reads.\n",
        "\n",
        "Run with `splam clean`"
      ]
    },
    {
      "cell_type": "code",
      "execution_count": 12,
      "metadata": {
        "colab": {
          "base_uri": "https://localhost:8080/"
        },
        "id": "thBMScKOMIDk",
        "outputId": "bca6352a-e041-4810-e5b2-59af48204867"
      },
      "outputs": [
        {
          "output_type": "stream",
          "name": "stdout",
          "text": [
            "====================================================================\n",
            "An accurate spliced alignment pruner and spliced junction predictor.\n",
            "====================================================================\n",
            "\n",
            "\n",
            "  ███████╗██████╗ ██╗      █████╗ ███╗   ███╗\n",
            "  ██╔════╝██╔══██╗██║     ██╔══██╗████╗ ████║\n",
            "  ███████╗██████╔╝██║     ███████║██╔████╔██║\n",
            "  ╚════██║██╔═══╝ ██║     ██╔══██║██║╚██╔╝██║\n",
            "  ███████║██║     ███████╗██║  ██║██║ ╚═╝ ██║\n",
            "  ╚══════╝╚═╝     ╚══════╝╚═╝  ╚═╝╚═╝     ╚═╝\n",
            "    \n",
            "threshold: 0.100000\n",
            "inbedname: tmp_out/junction_score.bed\n",
            "[INFO] SPLAM! Filtering spliced unique alignments (paired) \n",
            "[INFO] SPLAM! Filtering spliced multi-mapped alignments (paired) \n",
            "[INFO] SPLAM! Filtering spliced unique alignments (unpaired)\n",
            "[INFO] SPLAM! Filtering spliced multi-mapped alignments (unpaired)\n",
            "[INFO] SPLAM! Processing multi-mapped spliced alignments (paired)\n",
            "[INFO] SPLAM! Processing multi-mapped non-spliced alignments (paired)\n",
            "[INFO] SPLAM! Processing multi-mapped spliced alignments (unpaired)\n",
            "[INFO] SPLAM! Processing multi-mapped non-spliced alignments (unpaired)\n",
            "Outside of merging all files into a clean BAM file!\n",
            "Numver of input argument!: 15\n",
            "\n",
            "[INFO] Total number of spliced alignments\t:      3029 \n",
            "           paired spliced alignments\t\t:      2810 \n",
            "               - uniquely mapped\t\t:      1288   (kept: 1286 / removed: 2 )\n",
            "               - multi-mapped\t\t\t:      1522   (kept: 1522 / removed: 0 )\n",
            "           unpaired spliced alignments\t\t:       219 \n",
            "               - uniquely mapped\t\t:        54   (kept: 53 / removed: 1 )\n",
            "               - multi-mapped\t\t\t:       165   (kept: 164 / removed: 1 )\n",
            "\n",
            "[INFO] Number of junctions\t\t\t:        31   (good: 26 / bad: 4 / unstranded: 1)\n",
            "\n",
            "[INFO] Number of removed spliced alignments\t:         4 \n",
            "[INFO] Number of kept spliced alignments\t:      3025 \n"
          ]
        }
      ],
      "source": [
        "! splam clean -o tmp_out"
      ]
    },
    {
      "cell_type": "markdown",
      "metadata": {
        "id": "Nmjhk-LlSnwo"
      },
      "source": [
        "### Check the output"
      ]
    },
    {
      "cell_type": "markdown",
      "metadata": {
        "id": "KpeSrcCySsWC"
      },
      "source": [
        "Congratulations! You have finished the splam spliced alignment removal analysis. You should get a cleaned, sorted alignment file in `BAM` format. It is at `tmp_out/cleaned.bam`.\n",
        "\n",
        "The scores of all splice junctions in the `BAM` file is at `tmp_out/junction_score.bed`"
      ]
    },
    {
      "cell_type": "code",
      "execution_count": 13,
      "metadata": {
        "colab": {
          "base_uri": "https://localhost:8080/",
          "height": 17
        },
        "id": "gPqPMGbGU33o",
        "outputId": "4ed5458b-5b57-4229-eaf7-3fb0af21fb0b"
      },
      "outputs": [
        {
          "output_type": "display_data",
          "data": {
            "text/plain": [
              "<IPython.core.display.Javascript object>"
            ],
            "application/javascript": [
              "\n",
              "    async function download(id, filename, size) {\n",
              "      if (!google.colab.kernel.accessAllowed) {\n",
              "        return;\n",
              "      }\n",
              "      const div = document.createElement('div');\n",
              "      const label = document.createElement('label');\n",
              "      label.textContent = `Downloading \"${filename}\": `;\n",
              "      div.appendChild(label);\n",
              "      const progress = document.createElement('progress');\n",
              "      progress.max = size;\n",
              "      div.appendChild(progress);\n",
              "      document.body.appendChild(div);\n",
              "\n",
              "      const buffers = [];\n",
              "      let downloaded = 0;\n",
              "\n",
              "      const channel = await google.colab.kernel.comms.open(id);\n",
              "      // Send a message to notify the kernel that we're ready.\n",
              "      channel.send({})\n",
              "\n",
              "      for await (const message of channel.messages) {\n",
              "        // Send a message to notify the kernel that we're ready.\n",
              "        channel.send({})\n",
              "        if (message.buffers) {\n",
              "          for (const buffer of message.buffers) {\n",
              "            buffers.push(buffer);\n",
              "            downloaded += buffer.byteLength;\n",
              "            progress.value = downloaded;\n",
              "          }\n",
              "        }\n",
              "      }\n",
              "      const blob = new Blob(buffers, {type: 'application/binary'});\n",
              "      const a = document.createElement('a');\n",
              "      a.href = window.URL.createObjectURL(blob);\n",
              "      a.download = filename;\n",
              "      div.appendChild(a);\n",
              "      a.click();\n",
              "      div.remove();\n",
              "    }\n",
              "  "
            ]
          },
          "metadata": {}
        },
        {
          "output_type": "display_data",
          "data": {
            "text/plain": [
              "<IPython.core.display.Javascript object>"
            ],
            "application/javascript": [
              "download(\"download_868eb130-ebaa-4a37-aba4-4b4df7fe7b75\", \"cleaned.bam\", 449801)"
            ]
          },
          "metadata": {}
        }
      ],
      "source": [
        "files.download('tmp_out/cleaned.bam')"
      ]
    },
    {
      "cell_type": "code",
      "execution_count": 14,
      "metadata": {
        "id": "dslspqSVnFTP",
        "colab": {
          "base_uri": "https://localhost:8080/",
          "height": 17
        },
        "outputId": "15f8ac2c-4383-4486-8324-26a3611d9b10"
      },
      "outputs": [
        {
          "output_type": "display_data",
          "data": {
            "text/plain": [
              "<IPython.core.display.Javascript object>"
            ],
            "application/javascript": [
              "\n",
              "    async function download(id, filename, size) {\n",
              "      if (!google.colab.kernel.accessAllowed) {\n",
              "        return;\n",
              "      }\n",
              "      const div = document.createElement('div');\n",
              "      const label = document.createElement('label');\n",
              "      label.textContent = `Downloading \"${filename}\": `;\n",
              "      div.appendChild(label);\n",
              "      const progress = document.createElement('progress');\n",
              "      progress.max = size;\n",
              "      div.appendChild(progress);\n",
              "      document.body.appendChild(div);\n",
              "\n",
              "      const buffers = [];\n",
              "      let downloaded = 0;\n",
              "\n",
              "      const channel = await google.colab.kernel.comms.open(id);\n",
              "      // Send a message to notify the kernel that we're ready.\n",
              "      channel.send({})\n",
              "\n",
              "      for await (const message of channel.messages) {\n",
              "        // Send a message to notify the kernel that we're ready.\n",
              "        channel.send({})\n",
              "        if (message.buffers) {\n",
              "          for (const buffer of message.buffers) {\n",
              "            buffers.push(buffer);\n",
              "            downloaded += buffer.byteLength;\n",
              "            progress.value = downloaded;\n",
              "          }\n",
              "        }\n",
              "      }\n",
              "      const blob = new Blob(buffers, {type: 'application/binary'});\n",
              "      const a = document.createElement('a');\n",
              "      a.href = window.URL.createObjectURL(blob);\n",
              "      a.download = filename;\n",
              "      div.appendChild(a);\n",
              "      a.click();\n",
              "      div.remove();\n",
              "    }\n",
              "  "
            ]
          },
          "metadata": {}
        },
        {
          "output_type": "display_data",
          "data": {
            "text/plain": [
              "<IPython.core.display.Javascript object>"
            ],
            "application/javascript": [
              "download(\"download_7c132567-1858-45d0-877a-41ea8f8ebe8f\", \"junction_score.bed\", 1550)"
            ]
          },
          "metadata": {}
        }
      ],
      "source": [
        "files.download('tmp_out/junction_score.bed')"
      ]
    },
    {
      "cell_type": "markdown",
      "metadata": {
        "id": "QRKpIyEKnTyO"
      },
      "source": [
        "\n",
        "\n",
        "---\n",
        "\n",
        "\n",
        "\n",
        "<br>\n",
        "<br>"
      ]
    },
    {
      "cell_type": "markdown",
      "metadata": {
        "id": "FDNGw1_UTxLW"
      },
      "source": [
        "## Evaluate annotation file / assembeled transcripts evaluation"
      ]
    },
    {
      "cell_type": "markdown",
      "metadata": {
        "id": "ZvtJdN-6UBaZ"
      },
      "source": [
        "### Step 1: Extracting introns in your annotation file"
      ]
    },
    {
      "cell_type": "markdown",
      "metadata": {
        "id": "bMTiAk4oUL3e"
      },
      "source": [
        "In this step, you take an annotation file and run the following command. splam iterates through the `GFF` file, extracts all introns in transcripts, and writes their coordinates into a BED file.\n",
        "\n",
        "Run with `splam extract`"
      ]
    },
    {
      "cell_type": "code",
      "execution_count": 15,
      "metadata": {
        "colab": {
          "base_uri": "https://localhost:8080/"
        },
        "id": "jz7EH1DZUTWB",
        "outputId": "6b384630-8121-4215-eed3-0c3818ab1ae7"
      },
      "outputs": [
        {
          "output_type": "stream",
          "name": "stdout",
          "text": [
            "====================================================================\n",
            "An accurate spliced alignment pruner and spliced junction predictor.\n",
            "====================================================================\n",
            "\n",
            "\n",
            "  ███████╗██████╗ ██╗      █████╗ ███╗   ███╗\n",
            "  ██╔════╝██╔══██╗██║     ██╔══██╗████╗ ████║\n",
            "  ███████╗██████╔╝██║     ███████║██╔████╔██║\n",
            "  ╚════██║██╔═══╝ ██║     ██╔══██║██║╚██╔╝██║\n",
            "  ███████║██║     ███████╗██║  ██║██║ ╚═╝ ██║\n",
            "  ╚══════╝╚═╝     ╚══════╝╚═╝  ╚═╝╚═╝     ╚═╝\n",
            "    \n",
            "gff_file:  MANE.GRCh38.v1.1.subset.gff\n",
            "gff_db:  tmp_out_gff/annotation.db\n",
            "bed_file:  tmp_out_gff/junction.bed\n",
            "2023-07-29 22:10:59,804 - INFO - Populating features\n",
            "Populating features table and first-order relations: 0 features\r2023-07-29 22:10:59,822 - INFO - Populating features table and first-order relations: 43 features\r\n",
            "2023-07-29 22:10:59,822 - INFO - Updating relations\n",
            "2023-07-29 22:10:59,834 - INFO - Creating relations(parent) index\n",
            "2023-07-29 22:10:59,834 - INFO - Creating relations(child) index\n",
            "2023-07-29 22:10:59,835 - INFO - Creating features(featuretype) index\n",
            "2023-07-29 22:10:59,835 - INFO - Creating features (seqid, start, end) index\n",
            "2023-07-29 22:10:59,835 - INFO - Creating features (seqid, start, end, strand) index\n",
            "2023-07-29 22:10:59,835 - INFO - Running ANALYZE features\n"
          ]
        }
      ],
      "source": [
        "! splam extract MANE.GRCh38.v1.1.subset.gff -o tmp_out_gff"
      ]
    },
    {
      "cell_type": "markdown",
      "metadata": {
        "id": "FkUrs1lqUDcW"
      },
      "source": [
        "### Step 2: Scoring all extracted introns"
      ]
    },
    {
      "cell_type": "markdown",
      "metadata": {
        "id": "3tzMzMVLUaql"
      },
      "source": [
        "We then run splam to score all the extracted splice junctions from the previous step."
      ]
    },
    {
      "cell_type": "code",
      "execution_count": 16,
      "metadata": {
        "colab": {
          "base_uri": "https://localhost:8080/"
        },
        "id": "yc2vftcUUacM",
        "outputId": "f7b81ede-5568-4af7-ad1c-577fb54c04c8"
      },
      "outputs": [
        {
          "output_type": "stream",
          "name": "stdout",
          "text": [
            "====================================================================\n",
            "An accurate spliced alignment pruner and spliced junction predictor.\n",
            "====================================================================\n",
            "\n",
            "\n",
            "  ███████╗██████╗ ██╗      █████╗ ███╗   ███╗\n",
            "  ██╔════╝██╔══██╗██║     ██╔══██╗████╗ ████║\n",
            "  ███████╗██████╔╝██║     ███████║██╔████╔██║\n",
            "  ╚════██║██╔═══╝ ██║     ██╔══██║██║╚██╔╝██║\n",
            "  ███████║██║     ███████╗██║  ██║██║ ╚═╝ ██║\n",
            "  ╚══════╝╚═╝     ╚══════╝╚═╝  ╚═╝╚═╝     ╚═╝\n",
            "    \n",
            "[Info] Chromosomes in the annotation file is in 'chr*' style\n",
            "[Info] Running model in \"cpu\" mode\n",
            "[Info] Loading model ... (splam_script.pt)\n",
            "model = torch.load(model_path)!!\n",
            "[Info] Done loading model\n",
            "[Info] Loading data ...\n",
            "\t 15  junctions loaded.\n",
            "[Info] Done loading data\n",
            "[Info] SPLAM!  |################################| 2/2\n",
            "\u001b[?25h"
          ]
        }
      ],
      "source": [
        "! splam score -G chr9_subset.fa -m splam_script.pt -o tmp_out_gff tmp_out_gff/junction.bed"
      ]
    },
    {
      "cell_type": "markdown",
      "metadata": {
        "id": "S2eafyWNVItG"
      },
      "source": [
        "Congratulations! You have finished the splam annotation file evaluation analysis!\n",
        "\n",
        "The scores of all introns in the annotation file is at `tmp_out_gff/junction_score.bed`"
      ]
    },
    {
      "cell_type": "code",
      "execution_count": 17,
      "metadata": {
        "colab": {
          "base_uri": "https://localhost:8080/",
          "height": 17
        },
        "id": "1IxDuj2vUsg9",
        "outputId": "526dbfc1-d27e-4123-cf02-730088d31327"
      },
      "outputs": [
        {
          "output_type": "display_data",
          "data": {
            "text/plain": [
              "<IPython.core.display.Javascript object>"
            ],
            "application/javascript": [
              "\n",
              "    async function download(id, filename, size) {\n",
              "      if (!google.colab.kernel.accessAllowed) {\n",
              "        return;\n",
              "      }\n",
              "      const div = document.createElement('div');\n",
              "      const label = document.createElement('label');\n",
              "      label.textContent = `Downloading \"${filename}\": `;\n",
              "      div.appendChild(label);\n",
              "      const progress = document.createElement('progress');\n",
              "      progress.max = size;\n",
              "      div.appendChild(progress);\n",
              "      document.body.appendChild(div);\n",
              "\n",
              "      const buffers = [];\n",
              "      let downloaded = 0;\n",
              "\n",
              "      const channel = await google.colab.kernel.comms.open(id);\n",
              "      // Send a message to notify the kernel that we're ready.\n",
              "      channel.send({})\n",
              "\n",
              "      for await (const message of channel.messages) {\n",
              "        // Send a message to notify the kernel that we're ready.\n",
              "        channel.send({})\n",
              "        if (message.buffers) {\n",
              "          for (const buffer of message.buffers) {\n",
              "            buffers.push(buffer);\n",
              "            downloaded += buffer.byteLength;\n",
              "            progress.value = downloaded;\n",
              "          }\n",
              "        }\n",
              "      }\n",
              "      const blob = new Blob(buffers, {type: 'application/binary'});\n",
              "      const a = document.createElement('a');\n",
              "      a.href = window.URL.createObjectURL(blob);\n",
              "      a.download = filename;\n",
              "      div.appendChild(a);\n",
              "      a.click();\n",
              "      div.remove();\n",
              "    }\n",
              "  "
            ]
          },
          "metadata": {}
        },
        {
          "output_type": "display_data",
          "data": {
            "text/plain": [
              "<IPython.core.display.Javascript object>"
            ],
            "application/javascript": [
              "download(\"download_89947410-3fd2-4122-b5e6-2f63d4c44c87\", \"junction_score.bed\", 1152)"
            ]
          },
          "metadata": {}
        }
      ],
      "source": [
        "files.download('tmp_out_gff/junction_score.bed')"
      ]
    },
    {
      "cell_type": "code",
      "source": [],
      "metadata": {
        "id": "5B3NZXJMtKRm"
      },
      "execution_count": null,
      "outputs": []
    }
  ],
  "metadata": {
    "colab": {
      "provenance": [],
      "toc_visible": true,
      "include_colab_link": true
    },
    "kernelspec": {
      "display_name": "Python 3",
      "name": "python3"
    },
    "language_info": {
      "name": "python"
    }
  },
  "nbformat": 4,
  "nbformat_minor": 0
}